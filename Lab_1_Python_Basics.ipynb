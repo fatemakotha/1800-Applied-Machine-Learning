{
  "nbformat": 4,
  "nbformat_minor": 0,
  "metadata": {
    "colab": {
      "provenance": [],
      "authorship_tag": "ABX9TyOQ2dqr9OsCk8rBYKRgagPi",
      "include_colab_link": true
    },
    "kernelspec": {
      "name": "python3",
      "display_name": "Python 3"
    },
    "language_info": {
      "name": "python"
    }
  },
  "cells": [
    {
      "cell_type": "markdown",
      "metadata": {
        "id": "view-in-github",
        "colab_type": "text"
      },
      "source": [
        "<a href=\"https://colab.research.google.com/github/fatemakotha/1800-Applied-Machine-Learning/blob/main/Lab_1_Python_Basics.ipynb\" target=\"_parent\"><img src=\"https://colab.research.google.com/assets/colab-badge.svg\" alt=\"Open In Colab\"/></a>"
      ]
    },
    {
      "cell_type": "markdown",
      "source": [
        "**Import modules**"
      ],
      "metadata": {
        "id": "bOKUt797zqNy"
      }
    },
    {
      "cell_type": "code",
      "execution_count": null,
      "metadata": {
        "colab": {
          "base_uri": "https://localhost:8080/"
        },
        "id": "VMutPEZuzO5m",
        "outputId": "e6e5b21d-c7ec-4a9c-d865-5e6a3d394df9"
      },
      "outputs": [
        {
          "output_type": "stream",
          "name": "stdout",
          "text": [
            "0.8290576267558015\n"
          ]
        }
      ],
      "source": [
        "# random is a package that lets us generate lots of different types of random numbers\n",
        "import random\n",
        "# To call functions defined within a package we use the \"dot notation\"\n",
        "# The output of the next line should be a \n",
        "print(random.random())"
      ]
    },
    {
      "cell_type": "markdown",
      "source": [
        "**Variables**"
      ],
      "metadata": {
        "id": "F_psVkDtzysQ"
      }
    },
    {
      "cell_type": "code",
      "source": [
        "# Here we create a variable called \"variable_num\" and assign the number 0 to it\n",
        "variable_num= 0\n",
        "# Here we create a variable called \"variable_test\" and assign the text \"this is a text\" to it\n",
        "variable_text= \"this is a text\"\n",
        "print(variable_num)\n",
        "print(variable_text)\n",
        "print(variable_num)\n",
        "print(variable_text)\n"
      ],
      "metadata": {
        "colab": {
          "base_uri": "https://localhost:8080/"
        },
        "id": "ghbZfXmjzUah",
        "outputId": "630bfff9-bce3-4267-8d2d-7201177b2de5"
      },
      "execution_count": null,
      "outputs": [
        {
          "output_type": "stream",
          "name": "stdout",
          "text": [
            "0\n",
            "this is a text\n",
            "0\n",
            "this is a text\n"
          ]
        }
      ]
    },
    {
      "cell_type": "code",
      "source": [
        "day_of_the_week = 'Friday' # good practice\n",
        "a= 'Friday' # less good because it's less self-explanatory\n",
        "# Notice the difference in readibility:\n",
        "print('Today is', day_of_the_week)\n",
        "print('Today is', a)"
      ],
      "metadata": {
        "colab": {
          "base_uri": "https://localhost:8080/"
        },
        "id": "kaM7y-R1z6to",
        "outputId": "523debb5-313a-4d3a-f261-9c794ca1a57d"
      },
      "execution_count": null,
      "outputs": [
        {
          "output_type": "stream",
          "name": "stdout",
          "text": [
            "Today is Friday\n",
            "Today is Friday\n"
          ]
        }
      ]
    },
    {
      "cell_type": "markdown",
      "source": [
        "\n",
        "**After I assign a variable, can I change it?**\n",
        "\n"
      ],
      "metadata": {
        "id": "HOH4Sgqk0IMA"
      }
    },
    {
      "cell_type": "code",
      "source": [
        "# Reassignment\n",
        "variable_num = 20\n",
        "print(variable_num)"
      ],
      "metadata": {
        "colab": {
          "base_uri": "https://localhost:8080/"
        },
        "id": "Wu2-7t7G0BbQ",
        "outputId": "bde55577-d31a-44f6-a17d-c34673e07a0c"
      },
      "execution_count": null,
      "outputs": [
        {
          "output_type": "stream",
          "name": "stdout",
          "text": [
            "20\n"
          ]
        }
      ]
    },
    {
      "cell_type": "code",
      "source": [
        "  # assign a variable with a modified version of itself:\n",
        "variable_num = variable_num + variable_num\n",
        "# assign a variable with a variable\n",
        "second_variable_num = variable_num\n",
        "# Check \n",
        "print(variable_num)\n",
        "print(second_variable_num)"
      ],
      "metadata": {
        "colab": {
          "base_uri": "https://localhost:8080/"
        },
        "id": "oUvX_QGp0YqY",
        "outputId": "12766804-a8f5-467c-b550-30e143df71cd"
      },
      "execution_count": null,
      "outputs": [
        {
          "output_type": "stream",
          "name": "stdout",
          "text": [
            "40\n",
            "40\n"
          ]
        }
      ]
    },
    {
      "cell_type": "markdown",
      "source": [
        "**Data types:**"
      ],
      "metadata": {
        "id": "ROPX93mc07d6"
      }
    },
    {
      "cell_type": "code",
      "source": [
        "variable_int= 1\n",
        "variable_float= 1.1 #note that 1 is an integer, but 1. is a float!\n",
        "\n",
        "print(type(variable_int))\n",
        "print(type(variable_float))\n",
        "print(type(variable_text)) #remember the one from before?"
      ],
      "metadata": {
        "colab": {
          "base_uri": "https://localhost:8080/"
        },
        "id": "s1FNZYHh1BFa",
        "outputId": "1a9e1267-fb84-4bf3-c68a-7aa97917c1aa"
      },
      "execution_count": null,
      "outputs": [
        {
          "output_type": "stream",
          "name": "stdout",
          "text": [
            "<class 'int'>\n",
            "<class 'float'>\n",
            "<class 'str'>\n"
          ]
        }
      ]
    },
    {
      "cell_type": "markdown",
      "source": [
        "Strings"
      ],
      "metadata": {
        "id": "YVYC77_J1bwY"
      }
    },
    {
      "cell_type": "code",
      "source": [
        "# Single word\n",
        "var_string='word'\n",
        "print(var_string)\n",
        "\n",
        "# Entire phrase \n",
        "var_string='This is a string with multiple words'\n",
        "# Note that Python doesn't really know what a word is. It simply stores a sequence\n",
        "# of characters that includes white spaces\n",
        "print(var_string)\n",
        "\n"
      ],
      "metadata": {
        "colab": {
          "base_uri": "https://localhost:8080/"
        },
        "id": "6Pl0WwSN1Fr6",
        "outputId": "b430aeb8-6a14-495d-d3e3-72180a11be41"
      },
      "execution_count": null,
      "outputs": [
        {
          "output_type": "stream",
          "name": "stdout",
          "text": [
            "word\n",
            "This is a string with multiple words\n"
          ]
        }
      ]
    },
    {
      "cell_type": "code",
      "source": [
        "# We can also use double quote\n",
        "var_string=\"This is still a string\"\n",
        "print(var_string)"
      ],
      "metadata": {
        "colab": {
          "base_uri": "https://localhost:8080/"
        },
        "id": "sykwALWE1p9P",
        "outputId": "2e80d99a-c1a9-4d38-8d2b-4a7dd580e9ee"
      },
      "execution_count": null,
      "outputs": [
        {
          "output_type": "stream",
          "name": "stdout",
          "text": [
            "This is still a string\n"
          ]
        }
      ]
    },
    {
      "cell_type": "code",
      "source": [
        "# Be careful with quotes within quotes!\n",
        "\"I'm using single quotes, but this will create an error\""
      ],
      "metadata": {
        "colab": {
          "base_uri": "https://localhost:8080/",
          "height": 35
        },
        "id": "BM6UTYQb1rPn",
        "outputId": "08109ed6-6c66-4a36-e50b-9a620f0f3e37"
      },
      "execution_count": null,
      "outputs": [
        {
          "output_type": "execute_result",
          "data": {
            "text/plain": [
              "\"I'm using single quotes, but this will create an error\""
            ],
            "application/vnd.google.colaboratory.intrinsic+json": {
              "type": "string"
            }
          },
          "metadata": {},
          "execution_count": 11
        }
      ]
    },
    {
      "cell_type": "code",
      "source": [
        "var_string=\"Now I'm ready to use the single quotes inside a string!\"\n",
        "print(var_string)"
      ],
      "metadata": {
        "colab": {
          "base_uri": "https://localhost:8080/"
        },
        "id": "RBHXDlnK1vSv",
        "outputId": "7d126d4d-9c69-4baa-d0d3-7dfdabfd86fe"
      },
      "execution_count": null,
      "outputs": [
        {
          "output_type": "stream",
          "name": "stdout",
          "text": [
            "Now I'm ready to use the single quotes inside a string!\n"
          ]
        }
      ]
    },
    {
      "cell_type": "code",
      "source": [
        "len('Hello World')"
      ],
      "metadata": {
        "colab": {
          "base_uri": "https://localhost:8080/"
        },
        "id": "RzDY9swF16Kg",
        "outputId": "a97f4584-c563-4fb8-c9a9-7abdaf1326fc"
      },
      "execution_count": null,
      "outputs": [
        {
          "output_type": "execute_result",
          "data": {
            "text/plain": [
              "11"
            ]
          },
          "metadata": {},
          "execution_count": 13
        }
      ]
    },
    {
      "cell_type": "code",
      "source": [
        "var_string= \"012345 This is a string\""
      ],
      "metadata": {
        "id": "_HmFtlyD1-XH"
      },
      "execution_count": null,
      "outputs": []
    },
    {
      "cell_type": "code",
      "source": [
        "# Show first element (in this case the number 0)\n",
        "var_string[0]"
      ],
      "metadata": {
        "colab": {
          "base_uri": "https://localhost:8080/",
          "height": 35
        },
        "id": "hX49PHaY2AWH",
        "outputId": "014f7034-2e72-476d-f4f8-9c8eabeaccbc"
      },
      "execution_count": null,
      "outputs": [
        {
          "output_type": "execute_result",
          "data": {
            "text/plain": [
              "'0'"
            ],
            "application/vnd.google.colaboratory.intrinsic+json": {
              "type": "string"
            }
          },
          "metadata": {},
          "execution_count": 15
        }
      ]
    },
    {
      "cell_type": "code",
      "source": [
        "# second character\n",
        "var_string[1]"
      ],
      "metadata": {
        "colab": {
          "base_uri": "https://localhost:8080/",
          "height": 35
        },
        "id": "tYIV6_My2Cbf",
        "outputId": "5c8ef371-126b-4dd5-a471-a14439038539"
      },
      "execution_count": null,
      "outputs": [
        {
          "output_type": "execute_result",
          "data": {
            "text/plain": [
              "'1'"
            ],
            "application/vnd.google.colaboratory.intrinsic+json": {
              "type": "string"
            }
          },
          "metadata": {},
          "execution_count": 16
        }
      ]
    },
    {
      "cell_type": "code",
      "source": [
        "# how about the last one?\n",
        "print(var_string[-1])\n",
        "print(var_string[len(var_string)-1])"
      ],
      "metadata": {
        "colab": {
          "base_uri": "https://localhost:8080/"
        },
        "id": "JTVgeZMK2ETf",
        "outputId": "1b6780b6-f4ab-44ef-efe8-acdfdb9602ce"
      },
      "execution_count": null,
      "outputs": [
        {
          "output_type": "stream",
          "name": "stdout",
          "text": [
            "g\n",
            "g\n"
          ]
        }
      ]
    },
    {
      "cell_type": "code",
      "source": [
        "#Check the string\n",
        "var_string= \"012345 This is a string\"\n",
        "print(var_string)\n",
        "#This will print character 1,3,5 (not 5 because 7 is not included). \n",
        "# You can double check from the string itself!\n",
        "print(var_string[1:7:2])\n",
        "# This will print from beginning to end in increments of 2\n",
        "print(var_string[::2])"
      ],
      "metadata": {
        "colab": {
          "base_uri": "https://localhost:8080/"
        },
        "id": "68MCrgc02GLP",
        "outputId": "c5779e8a-374f-43fa-88bb-24db6116867a"
      },
      "execution_count": null,
      "outputs": [
        {
          "output_type": "stream",
          "name": "stdout",
          "text": [
            "012345 This is a string\n",
            "135\n",
            "024 hsi  tig\n"
          ]
        }
      ]
    },
    {
      "cell_type": "code",
      "source": [
        "# Take everything from the character at the start until the 5th one \n",
        "# (note the 5th character has the index 4, while index 5, the 6th character, is excluded)\n",
        "print(var_string[:5])"
      ],
      "metadata": {
        "colab": {
          "base_uri": "https://localhost:8080/"
        },
        "id": "EoVhl7O32RsQ",
        "outputId": "3760cb55-e334-4b17-ba22-8e2b5cf6c245"
      },
      "execution_count": null,
      "outputs": [
        {
          "output_type": "stream",
          "name": "stdout",
          "text": [
            "01234\n"
          ]
        }
      ]
    },
    {
      "cell_type": "code",
      "source": [
        "# Finally, we can use this to print a string backwards\n",
        "var_string[::-1]"
      ],
      "metadata": {
        "colab": {
          "base_uri": "https://localhost:8080/",
          "height": 35
        },
        "id": "oiq4hilx2XVZ",
        "outputId": "004a6d76-e841-49d8-c6ad-d68774ed4364"
      },
      "execution_count": null,
      "outputs": [
        {
          "output_type": "execute_result",
          "data": {
            "text/plain": [
              "'gnirts a si sihT 543210'"
            ],
            "application/vnd.google.colaboratory.intrinsic+json": {
              "type": "string"
            }
          },
          "metadata": {},
          "execution_count": 21
        }
      ]
    },
    {
      "cell_type": "markdown",
      "source": [
        "**String Properties**"
      ],
      "metadata": {
        "id": "MHCbHA1X2cOQ"
      }
    },
    {
      "cell_type": "code",
      "source": [
        "from IPython.utils.sysinfo import pprint\n",
        "var_string=\"try\"\n",
        "# # Let's try to change the first letter to 'x'\n",
        "# var_string[0] = 'x'\n",
        "# print(var_string[0])\n",
        "# var_string[0] = \"X\"\n",
        "\n",
        "# Don't modify strings.\n",
        "# Work with them as lists; turn them into strings only when needed.\n",
        "\n",
        "var_string = list(var_string)\n",
        "print(var_string)\n",
        "var_string[0] = \"X\"\n",
        "print(var_string)"
      ],
      "metadata": {
        "colab": {
          "base_uri": "https://localhost:8080/"
        },
        "id": "jOXpe-AU2Z1n",
        "outputId": "98693cf3-f819-4e62-c1d1-6c46ea318de1"
      },
      "execution_count": null,
      "outputs": [
        {
          "output_type": "stream",
          "name": "stdout",
          "text": [
            "['t', 'r', 'y']\n",
            "['X', 'r', 'y']\n"
          ]
        }
      ]
    },
    {
      "cell_type": "markdown",
      "source": [
        "Print Formatting\n",
        "We can use the .format() method to add formatted objects to printed string statements.\n",
        "\n",
        "The easiest way to show this is through an example:"
      ],
      "metadata": {
        "id": "ST0yJisY4RjO"
      }
    },
    {
      "cell_type": "code",
      "source": [
        "'Insert another {} string with curly brackets: {}'.format('MyNameIsKotha',\"the 2nd str\")"
      ],
      "metadata": {
        "colab": {
          "base_uri": "https://localhost:8080/",
          "height": 35
        },
        "id": "N43OKyXu2j7Q",
        "outputId": "7b899558-c059-4acc-9c20-765cc39e140b"
      },
      "execution_count": null,
      "outputs": [
        {
          "output_type": "execute_result",
          "data": {
            "text/plain": [
              "'Insert another MyNameIsKotha string with curly brackets: the 2nd str'"
            ],
            "application/vnd.google.colaboratory.intrinsic+json": {
              "type": "string"
            }
          },
          "metadata": {},
          "execution_count": 32
        }
      ]
    },
    {
      "cell_type": "markdown",
      "source": [
        "**Lists**"
      ],
      "metadata": {
        "id": "a230D3Sy43DP"
      }
    },
    {
      "cell_type": "code",
      "source": [
        "var_list = [1, 2, 3, 4, 5, 6, 7, 8]\n",
        "# lists have the attribute len too! They're sequences after all...\n",
        "print(len(var_list))"
      ],
      "metadata": {
        "colab": {
          "base_uri": "https://localhost:8080/"
        },
        "id": "hzW2z03v48K4",
        "outputId": "3a744410-0bea-4ad4-dd4d-5815ce587aad"
      },
      "execution_count": null,
      "outputs": [
        {
          "output_type": "stream",
          "name": "stdout",
          "text": [
            "8\n"
          ]
        }
      ]
    },
    {
      "cell_type": "code",
      "source": [
        "print(var_list[:3])\n",
        "print(var_list[3:])\n",
        "print(var_list[-2:])"
      ],
      "metadata": {
        "colab": {
          "base_uri": "https://localhost:8080/"
        },
        "id": "-Z6s5l2V48rW",
        "outputId": "a91612fb-1983-4362-a26d-72bc7f4ab140"
      },
      "execution_count": null,
      "outputs": [
        {
          "output_type": "stream",
          "name": "stdout",
          "text": [
            "[1, 2, 3]\n",
            "[4, 5, 6, 7, 8]\n",
            "[7, 8]\n"
          ]
        }
      ]
    },
    {
      "cell_type": "code",
      "source": [
        "var_list.extend([7,8])\n",
        "var_list"
      ],
      "metadata": {
        "colab": {
          "base_uri": "https://localhost:8080/"
        },
        "id": "51JkLRMV5Gy2",
        "outputId": "6e2ef147-d354-43d4-f65e-deeca8291a36"
      },
      "execution_count": null,
      "outputs": [
        {
          "output_type": "execute_result",
          "data": {
            "text/plain": [
              "[1, 2, 3, 4, 5, 6, 7, 8, 7, 8]"
            ]
          },
          "metadata": {},
          "execution_count": 37
        }
      ]
    },
    {
      "cell_type": "code",
      "source": [
        "var_list.append(9)\n",
        "var_list"
      ],
      "metadata": {
        "colab": {
          "base_uri": "https://localhost:8080/"
        },
        "id": "gsevf9ch5QeG",
        "outputId": "bce42080-6d1b-4f8e-f1ec-b0923f66c951"
      },
      "execution_count": null,
      "outputs": [
        {
          "output_type": "execute_result",
          "data": {
            "text/plain": [
              "[1, 2, 3, 4, 5, 6, 7, 8, 7, 8, 9]"
            ]
          },
          "metadata": {},
          "execution_count": 38
        }
      ]
    },
    {
      "cell_type": "code",
      "source": [],
      "metadata": {
        "id": "HvEPOE865v8Q"
      },
      "execution_count": null,
      "outputs": []
    },
    {
      "cell_type": "code",
      "source": [
        "new_var_list = [20, 21, 22]\n",
        "list_of_lists = [var_list, new_var_list]\n",
        "list_of_lists"
      ],
      "metadata": {
        "colab": {
          "base_uri": "https://localhost:8080/"
        },
        "id": "7LILaxyB5SPG",
        "outputId": "0542370f-92a9-437a-affc-9bbc021bb81e"
      },
      "execution_count": null,
      "outputs": [
        {
          "output_type": "execute_result",
          "data": {
            "text/plain": [
              "[[1, 2, 3, 4, 5, 6, 7, 8, 7, 8, 9], [20, 21, 22]]"
            ]
          },
          "metadata": {},
          "execution_count": 39
        }
      ]
    },
    {
      "cell_type": "markdown",
      "source": [
        "We can index lists of lists by having one indexing follow \n",
        "\n",
        "*   List item\n",
        "*   List item\n",
        "\n",
        "the other. That is, we need to use two sets of square brackets, like this:"
      ],
      "metadata": {
        "id": "dTwhvnuR5k82"
      }
    },
    {
      "cell_type": "code",
      "source": [
        "# take the index 0 from the list with index 1 (that is, the second list)\n",
        "list_of_lists[1][0] #Thats the second list and first inrteger in the second list"
      ],
      "metadata": {
        "colab": {
          "base_uri": "https://localhost:8080/"
        },
        "id": "yB7gs1bB5VNm",
        "outputId": "c6d7eb44-5174-44d6-a6e7-18015904f58c"
      },
      "execution_count": null,
      "outputs": [
        {
          "output_type": "execute_result",
          "data": {
            "text/plain": [
              "20"
            ]
          },
          "metadata": {},
          "execution_count": 41
        }
      ]
    },
    {
      "cell_type": "code",
      "source": [
        "#Finally, an example of list with mixed object types\n",
        "mixed_list = [0, '0', [1,'1']]\n",
        "print(mixed_list)"
      ],
      "metadata": {
        "colab": {
          "base_uri": "https://localhost:8080/"
        },
        "id": "KNUpLsdN5oLO",
        "outputId": "4edef16f-a88f-46ab-a21e-e5911dad6527"
      },
      "execution_count": null,
      "outputs": [
        {
          "output_type": "stream",
          "name": "stdout",
          "text": [
            "[0, '0', [1, '1']]\n"
          ]
        }
      ]
    },
    {
      "cell_type": "markdown",
      "source": [
        " **Tuples**"
      ],
      "metadata": {
        "id": "cJ_Qo4MT58QX"
      }
    },
    {
      "cell_type": "code",
      "source": [
        "#Tuples are just immutable lists. Use () instead of []\n",
        "var_tuple = (1, 2, 3)\n",
        "len(var_tuple)"
      ],
      "metadata": {
        "colab": {
          "base_uri": "https://localhost:8080/"
        },
        "id": "-Xk-W46f54p-",
        "outputId": "66f3053f-97f8-4b45-eaba-8c6d7607bf60"
      },
      "execution_count": null,
      "outputs": [
        {
          "output_type": "execute_result",
          "data": {
            "text/plain": [
              "3"
            ]
          },
          "metadata": {},
          "execution_count": 43
        }
      ]
    },
    {
      "cell_type": "code",
      "source": [
        "new_var_tuple = (4, 5, 6)\n",
        "new_var_tuple[2]"
      ],
      "metadata": {
        "colab": {
          "base_uri": "https://localhost:8080/"
        },
        "id": "aTkTKbqa6Fuu",
        "outputId": "882b35df-560b-4e54-80d8-04df2ffb96f0"
      },
      "execution_count": null,
      "outputs": [
        {
          "output_type": "execute_result",
          "data": {
            "text/plain": [
              "6"
            ]
          },
          "metadata": {},
          "execution_count": 44
        }
      ]
    },
    {
      "cell_type": "code",
      "source": [
        "list_of_tuples = [var_tuple, new_var_tuple]\n",
        "list_of_tuples"
      ],
      "metadata": {
        "colab": {
          "base_uri": "https://localhost:8080/"
        },
        "id": "XrKnkmM46HzT",
        "outputId": "a79cfbf2-c160-4479-f0cc-4e0262437c70"
      },
      "execution_count": null,
      "outputs": [
        {
          "output_type": "execute_result",
          "data": {
            "text/plain": [
              "[(1, 2, 3), (4, 5, 6)]"
            ]
          },
          "metadata": {},
          "execution_count": 45
        }
      ]
    },
    {
      "cell_type": "markdown",
      "source": [
        "**Dictionaries**"
      ],
      "metadata": {
        "id": "geTBH89F6NSr"
      }
    },
    {
      "cell_type": "code",
      "source": [
        "# Make a dictionary with {} and : to signify a key and a value\n",
        "my_dict = {'key1':'value1','key2':'value2'}\n",
        "\n",
        "# Call values by their key\n",
        "my_dict['key1']"
      ],
      "metadata": {
        "colab": {
          "base_uri": "https://localhost:8080/",
          "height": 35
        },
        "id": "P4sl6u5A6Jtb",
        "outputId": "4e1bffc1-07aa-453c-be9c-6740bf347557"
      },
      "execution_count": null,
      "outputs": [
        {
          "output_type": "execute_result",
          "data": {
            "text/plain": [
              "'value1'"
            ],
            "application/vnd.google.colaboratory.intrinsic+json": {
              "type": "string"
            }
          },
          "metadata": {},
          "execution_count": 47
        }
      ]
    },
    {
      "cell_type": "code",
      "source": [
        "my_dict = {'key1':123,'key2':[12,23,33],'key3':['item0','item1','item2']}\n",
        "# Let's call items from the dictionary\n",
        "print(my_dict['key3'])\n",
        "# Can call an index on that value\n",
        "print(my_dict['key2'])\n",
        "# Can then even call methods on that value\n",
        "print(my_dict['key3'][0].upper())\n",
        "print(my_dict['key1'])\n"
      ],
      "metadata": {
        "colab": {
          "base_uri": "https://localhost:8080/"
        },
        "id": "QWXXNVb-6L-b",
        "outputId": "4121a8cc-ee81-48a8-a50e-4323204df3de"
      },
      "execution_count": null,
      "outputs": [
        {
          "output_type": "stream",
          "name": "stdout",
          "text": [
            "['item0', 'item1', 'item2']\n",
            "[12, 23, 33]\n",
            "ITEM0\n",
            "123\n"
          ]
        }
      ]
    },
    {
      "cell_type": "code",
      "source": [
        "# Subtract 123 from the value\n",
        "my_dict['key1'] = my_dict['key1'] + 103"
      ],
      "metadata": {
        "id": "xSjNDUmm66uO"
      },
      "execution_count": null,
      "outputs": []
    },
    {
      "cell_type": "code",
      "source": [
        "#Check\n",
        "my_dict['key1']"
      ],
      "metadata": {
        "colab": {
          "base_uri": "https://localhost:8080/"
        },
        "id": "3QTHcSAJ6Ydu",
        "outputId": "785298e2-bfe8-4226-f4dc-a8b5255316e7"
      },
      "execution_count": null,
      "outputs": [
        {
          "output_type": "execute_result",
          "data": {
            "text/plain": [
              "226"
            ]
          },
          "metadata": {},
          "execution_count": 57
        }
      ]
    },
    {
      "cell_type": "code",
      "source": [
        "# Set the object equal to itself minus 123 \n",
        "my_dict['key1'] -= 123\n",
        "#check\n",
        "my_dict['key1']"
      ],
      "metadata": {
        "colab": {
          "base_uri": "https://localhost:8080/"
        },
        "id": "fwi1CCs46bZW",
        "outputId": "3f57d462-72c5-48ba-83e8-860023c132fa"
      },
      "execution_count": null,
      "outputs": [
        {
          "output_type": "execute_result",
          "data": {
            "text/plain": [
              "-20"
            ]
          },
          "metadata": {},
          "execution_count": 59
        }
      ]
    },
    {
      "cell_type": "markdown",
      "source": [
        "**A few Dictionary Methods**"
      ],
      "metadata": {
        "id": "OO4kVWh07Nyg"
      }
    },
    {
      "cell_type": "code",
      "source": [
        "# Create a typical dictionary\n",
        "d = {'key1':1,'key2':2,'key3':3}"
      ],
      "metadata": {
        "id": "TrOqpSSr7G52"
      },
      "execution_count": null,
      "outputs": []
    },
    {
      "cell_type": "code",
      "source": [
        "# Method to return all the keys \n",
        "d.keys()"
      ],
      "metadata": {
        "colab": {
          "base_uri": "https://localhost:8080/"
        },
        "id": "DcnrD_G17Qxe",
        "outputId": "d83a6184-9423-4add-a1b6-8f748a9acb34"
      },
      "execution_count": null,
      "outputs": [
        {
          "output_type": "execute_result",
          "data": {
            "text/plain": [
              "dict_keys(['key1', 'key2', 'key3'])"
            ]
          },
          "metadata": {},
          "execution_count": 61
        }
      ]
    },
    {
      "cell_type": "code",
      "source": [
        "# Method to grab all values\n",
        "d.values()"
      ],
      "metadata": {
        "colab": {
          "base_uri": "https://localhost:8080/"
        },
        "id": "56tSacAo7Sge",
        "outputId": "b51fb2ed-de13-4b8c-bfe6-209fe8080156"
      },
      "execution_count": null,
      "outputs": [
        {
          "output_type": "execute_result",
          "data": {
            "text/plain": [
              "dict_values([1, 2, 3])"
            ]
          },
          "metadata": {},
          "execution_count": 62
        }
      ]
    },
    {
      "cell_type": "code",
      "source": [
        "d.items()"
      ],
      "metadata": {
        "colab": {
          "base_uri": "https://localhost:8080/"
        },
        "id": "SSf57J2p7Uhm",
        "outputId": "38fd6a8d-3a47-4a0e-cc3b-6164bb240e68"
      },
      "execution_count": null,
      "outputs": [
        {
          "output_type": "execute_result",
          "data": {
            "text/plain": [
              "dict_items([('key1', 1), ('key2', 2), ('key3', 3)])"
            ]
          },
          "metadata": {},
          "execution_count": 63
        }
      ]
    },
    {
      "cell_type": "markdown",
      "source": [
        "**Another way for creating dictionaries**"
      ],
      "metadata": {
        "id": "--k_9xMw7Zxu"
      }
    },
    {
      "cell_type": "code",
      "source": [
        "# Like a map or hash table in other languages\n",
        "captains = {}\n",
        "captains[\"Enterprise\"] = \"Kirk\"\n",
        "captains[\"Enterprise D\"] = \"Picard\"\n",
        "captains[\"Deep Space Nine\"] = \"Sisko\"\n",
        "captains[\"Voyager\"] = \"Janeway\"\n",
        "\n",
        "print(captains[\"Voyager\"])\n",
        "print(captains.get(\"Enterprise\"))\n",
        "print(captains.get(\"NX-01\"))\n",
        "for ship in captains:\n",
        "    print(ship + \": \" + captains[ship])"
      ],
      "metadata": {
        "colab": {
          "base_uri": "https://localhost:8080/"
        },
        "id": "cqV25Ur57WG2",
        "outputId": "9de53567-c1a8-4f80-bbc9-9c47dfd9ccb6"
      },
      "execution_count": null,
      "outputs": [
        {
          "output_type": "stream",
          "name": "stdout",
          "text": [
            "Janeway\n",
            "Kirk\n",
            "None\n",
            "Enterprise: Kirk\n",
            "Enterprise D: Picard\n",
            "Deep Space Nine: Sisko\n",
            "Voyager: Janeway\n"
          ]
        }
      ]
    },
    {
      "cell_type": "markdown",
      "source": [
        "**Functions**"
      ],
      "metadata": {
        "id": "r2O5kAD-7wCI"
      }
    },
    {
      "cell_type": "code",
      "source": [
        "# here the function is DEFINED\n",
        "def SquareIt(x):\n",
        "    #x is the input parameter\n",
        "    # this function returns the square of the input x:\n",
        "    return x ** 2\n",
        "\n",
        "# here the function is CALLED\n",
        "# a function CALL is performed using its name followed by the specific parameter \n",
        "# we want to apply the function too\n",
        "print(SquareIt(2))\n",
        "\n",
        "# we can also apply functions to variables\n",
        "var_num= 3\n",
        "print(SquareIt(3))"
      ],
      "metadata": {
        "colab": {
          "base_uri": "https://localhost:8080/"
        },
        "id": "Dv7MA6NR7ke-",
        "outputId": "8c7503db-7f4e-494c-a95a-9969dd0c130e"
      },
      "execution_count": null,
      "outputs": [
        {
          "output_type": "stream",
          "name": "stdout",
          "text": [
            "4\n",
            "9\n"
          ]
        }
      ]
    },
    {
      "cell_type": "code",
      "source": [
        "#You can pass functions around as parameters\n",
        "def MultipleOperations(x, y =2):\n",
        "    # takes two parameters, returns two outputs\n",
        "    return x+y, x*y\n",
        "\n",
        "# Note that for readability we also use the name of the parameters to the function\n",
        "# This way we don't have to remember the order of the parameters in the definition\n",
        "print(MultipleOperations(x=3)) #should return 5 and 6\n",
        "print(MultipleOperations(x=3,y=10)) #should return 13 and 30"
      ],
      "metadata": {
        "colab": {
          "base_uri": "https://localhost:8080/"
        },
        "id": "YXvfcxnQ75gO",
        "outputId": "a08f10a4-beb4-4140-c054-4f93152d823e"
      },
      "execution_count": null,
      "outputs": [
        {
          "output_type": "stream",
          "name": "stdout",
          "text": [
            "(5, 6)\n",
            "(13, 30)\n"
          ]
        }
      ]
    },
    {
      "cell_type": "markdown",
      "source": [
        "**Boolean Expressions**"
      ],
      "metadata": {
        "id": "l_yoJhbb8A32"
      }
    },
    {
      "cell_type": "code",
      "source": [
        "print(1 == 3)\n",
        "print(True or False)"
      ],
      "metadata": {
        "colab": {
          "base_uri": "https://localhost:8080/"
        },
        "id": "83zrQwoK71G2",
        "outputId": "dc5dc0d7-272a-4ad4-86dd-ac897feae6fa"
      },
      "execution_count": null,
      "outputs": [
        {
          "output_type": "stream",
          "name": "stdout",
          "text": [
            "False\n",
            "True\n"
          ]
        }
      ]
    },
    {
      "cell_type": "code",
      "source": [
        "first_var=1\n",
        "second_var=3\n",
        "\n",
        "if first_var == second_var:\n",
        "    final_var= first_var\n",
        "elif first_var > second_var:\n",
        "    final_var= first_var\n",
        "else:\n",
        "    final_var= second_var\n",
        "\n",
        "print(final_var)"
      ],
      "metadata": {
        "colab": {
          "base_uri": "https://localhost:8080/"
        },
        "id": "1ThbqPKi8LEG",
        "outputId": "f3513653-6e66-4052-bf32-2861fcd5565b"
      },
      "execution_count": null,
      "outputs": [
        {
          "output_type": "stream",
          "name": "stdout",
          "text": [
            "3\n"
          ]
        }
      ]
    },
    {
      "cell_type": "code",
      "source": [
        "first_var=1\n",
        "second_var=3\n",
        "\n",
        "if first_var == second_var:\n",
        "  final_var= first_var\n",
        "elif first_var > second_var:\n",
        "  final_var= first_var\n",
        "else:\n",
        "  final_var= second_var\n",
        "\n",
        "print(final_var)"
      ],
      "metadata": {
        "colab": {
          "base_uri": "https://localhost:8080/"
        },
        "id": "d8qryC3j8NUm",
        "outputId": "9e5ab897-c929-4460-ac05-01d8f6260db6"
      },
      "execution_count": null,
      "outputs": [
        {
          "output_type": "stream",
          "name": "stdout",
          "text": [
            "3\n"
          ]
        }
      ]
    },
    {
      "cell_type": "markdown",
      "source": [
        "**Loops**"
      ],
      "metadata": {
        "id": "jPels6jS8X5Y"
      }
    },
    {
      "cell_type": "code",
      "source": [
        "# iterate over all numbers from 0 to 10\n",
        "for x in [0,1,2,3,4,5,6,7,8,9]:\n",
        "    print(x)"
      ],
      "metadata": {
        "colab": {
          "base_uri": "https://localhost:8080/"
        },
        "id": "b1T0Kqvb8P73",
        "outputId": "89885387-2a73-4b2d-ea20-535dae31cc21"
      },
      "execution_count": null,
      "outputs": [
        {
          "output_type": "stream",
          "name": "stdout",
          "text": [
            "0\n",
            "1\n",
            "2\n",
            "3\n",
            "4\n",
            "5\n",
            "6\n",
            "7\n",
            "8\n",
            "9\n"
          ]
        }
      ]
    },
    {
      "cell_type": "code",
      "source": [
        "list = [0,1,2,3,4,5,6,7,8,9]\n",
        "for number in list:\n",
        "  print(number)"
      ],
      "metadata": {
        "colab": {
          "base_uri": "https://localhost:8080/"
        },
        "id": "3a9sKY1G8cKu",
        "outputId": "e56fb1b3-d50f-4e51-e3ec-db1df2161823"
      },
      "execution_count": null,
      "outputs": [
        {
          "output_type": "stream",
          "name": "stdout",
          "text": [
            "0\n",
            "1\n",
            "2\n",
            "3\n",
            "4\n",
            "5\n",
            "6\n",
            "7\n",
            "8\n",
            "9\n"
          ]
        }
      ]
    },
    {
      "cell_type": "code",
      "source": [
        "for x in range(10):\n",
        "    print(x)"
      ],
      "metadata": {
        "colab": {
          "base_uri": "https://localhost:8080/"
        },
        "id": "VWg5KS_b8mpW",
        "outputId": "2920519a-90d6-4164-a433-a42dd5cdd31d"
      },
      "execution_count": null,
      "outputs": [
        {
          "output_type": "stream",
          "name": "stdout",
          "text": [
            "0\n",
            "1\n",
            "2\n",
            "3\n",
            "4\n",
            "5\n",
            "6\n",
            "7\n",
            "8\n",
            "9\n"
          ]
        }
      ]
    },
    {
      "cell_type": "code",
      "source": [
        "# iterate from 0 to 9, ignore the number 1, print the other numbers and stops when 5 has been printed \n",
        "for x in range(10):\n",
        "    if x is 1:\n",
        "        continue\n",
        "    if (x > 5):\n",
        "        break \n",
        "    print(x)\n",
        "print(\"OR YOU CAN DO THIS\")\n",
        "# iterate from 0 to 9, ignore the number 1, print the other numbers and stops when 5 has been printed \n",
        "for x in range(10):\n",
        "    if x == 1:\n",
        "        continue\n",
        "    if (x > 5):\n",
        "        break \n",
        "    print(x)"
      ],
      "metadata": {
        "colab": {
          "base_uri": "https://localhost:8080/"
        },
        "id": "Snm_4lEg8xbe",
        "outputId": "904284d4-209c-4b15-a41a-c3a5d5adfad5"
      },
      "execution_count": null,
      "outputs": [
        {
          "output_type": "stream",
          "name": "stdout",
          "text": [
            "0\n",
            "2\n",
            "3\n",
            "4\n",
            "5\n",
            "OR YOU CAN DO THIS\n",
            "0\n",
            "2\n",
            "3\n",
            "4\n",
            "5\n"
          ]
        },
        {
          "output_type": "stream",
          "name": "stderr",
          "text": [
            "<>:3: SyntaxWarning: \"is\" with a literal. Did you mean \"==\"?\n",
            "<>:3: SyntaxWarning: \"is\" with a literal. Did you mean \"==\"?\n",
            "<ipython-input-79-f520634d7a24>:3: SyntaxWarning: \"is\" with a literal. Did you mean \"==\"?\n",
            "  if x is 1:\n"
          ]
        }
      ]
    },
    {
      "cell_type": "markdown",
      "source": [
        "**Activity**\n",
        "Write some code that creates a list of integers (any integer), loops through each element of the list, and only prints out each number multiplied by 2"
      ],
      "metadata": {
        "id": "q7pNa3dk9OTf"
      }
    },
    {
      "cell_type": "code",
      "source": [
        "new_list = list = [0,1,2,3,4,5,6,7,8,9]\n",
        "for number in new_list:\n",
        "  print(number*2)"
      ],
      "metadata": {
        "colab": {
          "base_uri": "https://localhost:8080/"
        },
        "id": "rrRManz186Q-",
        "outputId": "0ba490d7-725e-4405-cc96-42637e8f1728"
      },
      "execution_count": null,
      "outputs": [
        {
          "output_type": "stream",
          "name": "stdout",
          "text": [
            "0\n",
            "2\n",
            "4\n",
            "6\n",
            "8\n",
            "10\n",
            "12\n",
            "14\n",
            "16\n",
            "18\n"
          ]
        }
      ]
    },
    {
      "cell_type": "markdown",
      "source": [
        "Some notes about Python arithmetic\n",
        "In Python you can do all the basic operations: +,-,*\n",
        "\n",
        "addition with +\n",
        "subtraction with -\n",
        "multiplication with *\n",
        "division with /\n",
        "Exponentiation with ** (with the square root being **0.5, try it!)\n",
        "List item\n",
        "There are also two special types of divisions:\n",
        "\n",
        "Floor division: here only the integer part of the results of the division is returned\n",
        "Modulo division: returns the remainder after the division\n",
        "That is:"
      ],
      "metadata": {
        "id": "hLunQp519qH_"
      }
    },
    {
      "cell_type": "code",
      "source": [
        "# Floor Division\n",
        "print(7//4) \n",
        "#7 divided by 4 is 1.75, so its integer part is 1\n",
        "# Modulo division\n",
        "print(7%4)"
      ],
      "metadata": {
        "colab": {
          "base_uri": "https://localhost:8080/"
        },
        "id": "rQ9HtFbg9hnG",
        "outputId": "3fb809d6-c203-42a9-e2a9-57f1c18a8bd5"
      },
      "execution_count": null,
      "outputs": [
        {
          "output_type": "stream",
          "name": "stdout",
          "text": [
            "1\n",
            "3\n"
          ]
        }
      ]
    },
    {
      "cell_type": "code",
      "source": [
        "var_num= 5\n",
        "var_num += 4 #this adds 10 to var_num and assigns the result to var_num\n",
        "print(var_num)"
      ],
      "metadata": {
        "colab": {
          "base_uri": "https://localhost:8080/"
        },
        "id": "qNBuoVGJ96l2",
        "outputId": "1d6409e1-2f88-4dd8-fa29-44a57e9fbcfe"
      },
      "execution_count": null,
      "outputs": [
        {
          "output_type": "stream",
          "name": "stdout",
          "text": [
            "9\n"
          ]
        }
      ]
    },
    {
      "cell_type": "code",
      "source": [
        "var_num **= .5 #this takes the square root of var_num and assigns the result to var_num\n",
        "print(var_num)"
      ],
      "metadata": {
        "id": "PyC_6VVU9-jW",
        "outputId": "2acd7c2b-299a-4b30-aafa-b30158563086",
        "colab": {
          "base_uri": "https://localhost:8080/"
        }
      },
      "execution_count": null,
      "outputs": [
        {
          "output_type": "stream",
          "name": "stdout",
          "text": [
            "3.0\n"
          ]
        }
      ]
    },
    {
      "cell_type": "code",
      "source": [],
      "metadata": {
        "id": "4e7lXX5m-ACW"
      },
      "execution_count": null,
      "outputs": []
    }
  ]
}