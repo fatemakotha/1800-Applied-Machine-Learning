{
  "nbformat": 4,
  "nbformat_minor": 0,
  "metadata": {
    "colab": {
      "provenance": [],
      "toc_visible": true,
      "include_colab_link": true
    },
    "kernelspec": {
      "name": "python3",
      "display_name": "Python 3"
    },
    "language_info": {
      "name": "python"
    },
    "gpuClass": "standard"
  },
  "cells": [
    {
      "cell_type": "markdown",
      "metadata": {
        "id": "view-in-github",
        "colab_type": "text"
      },
      "source": [
        "<a href=\"https://colab.research.google.com/github/fatemakotha/1804-Applied-Machine-Learning/blob/main/Lab3_PartA_Data_Pre_processing_with_testing_revised.ipynb\" target=\"_parent\"><img src=\"https://colab.research.google.com/assets/colab-badge.svg\" alt=\"Open In Colab\"/></a>"
      ]
    },
    {
      "cell_type": "markdown",
      "metadata": {
        "id": "pN_Z8Y5a2N3R"
      },
      "source": [
        "___\n",
        "# COMP1804 Lab 3 - Data Pre-processing Revised\n",
        "\n",
        "\n",
        "\n",
        "**Learning Objectives:**\n",
        " *  Understand the stages of data pre-processing.\n",
        " *  Use Python for pre-processing. \n",
        " *  Practice the different stages of data pre-processing in Python.\n",
        "___\n",
        "\n",
        "\n",
        "Note: this is a smaller version of week 2's tutorial. The added exercise is the application of all the data pre-processing steps to both the training and the test dataset."
      ]
    },
    {
      "cell_type": "markdown",
      "metadata": {
        "id": "RM1iaD-ka3Y1"
      },
      "source": [
        "## 1. Loading the Dataset\n",
        "\n",
        "\n",
        "For this Lab, I have used a subset of the Loan Prediction dataset. You can download the training and testing dataset from Moodle: [Download Data](https://moodlecurrent.gre.ac.uk/mod/resource/view.php?id=1730057)\n",
        "\n",
        "\n",
        "Now, lets get started by importing important packages and the dataset."
      ]
    },
    {
      "cell_type": "markdown",
      "metadata": {
        "id": "TQzIVnbnmWGM"
      },
      "source": [
        "**1.1 Import the necessary Python modules**"
      ]
    },
    {
      "cell_type": "code",
      "source": [
        "PY = False # change this to True if you're running the .py version of this notebook"
      ],
      "metadata": {
        "id": "kKsSMDlqH1IU"
      },
      "execution_count": 1,
      "outputs": []
    },
    {
      "cell_type": "code",
      "metadata": {
        "id": "ko6pLK6JmkYP"
      },
      "source": [
        "# Load python modules\n",
        "\n",
        "import numpy as np # numpy is a library that allows us to work with vectors and matrices\n",
        "import matplotlib.pyplot as plt # visualisation library\n",
        "import pandas as pd # pandas is a library that allows us to work with DataFrames \n",
        "\n",
        "# On some level, dataframes are enhanced matrices where we have assigned names to each\n",
        "# row and each column.\n"
      ],
      "execution_count": 2,
      "outputs": []
    },
    {
      "cell_type": "code",
      "source": [
        "from IPython.display import HTML\n",
        "def pretty_print_df(value_counts_):\n",
        "  \"Quick function to display value counts more nicely\"\n",
        "  display(HTML(pd.DataFrame(value_counts_).to_html()))\n"
      ],
      "metadata": {
        "id": "ERsUHv-VjgSG"
      },
      "execution_count": 3,
      "outputs": []
    },
    {
      "cell_type": "markdown",
      "metadata": {
        "id": "o5eEPJekd8QE"
      },
      "source": [
        "**1.2 Load Dataset **\n",
        "\n",
        "Note: Download the csv files from the URL to your local drive and load from there as shown in the code below.\n",
        "\n",
        "We are using pandas to load the data. We will also use pandas next to explore the data both with descriptive statistics and data visualization.\n"
      ]
    },
    {
      "cell_type": "code",
      "metadata": {
        "id": "yxRPwy7LQay_",
        "colab": {
          "base_uri": "https://localhost:8080/",
          "height": 127
        },
        "outputId": "42b51ccc-bbd6-422f-e84a-3a432f1dc8ae"
      },
      "source": [
        "# Load dataset from local drive (for colab notebook)\n",
        "if PY:\n",
        "    # note: the lines below assume that the data is found in the same folder as the script.\n",
        "    # If that's not the case, you need to change the argument of read_csv to the full\n",
        "    # path of each dataset\n",
        "    X = pd.read_csv('X_train.csv')\n",
        "    Y = pd.read_csv('Y_train.csv')\n",
        "    \n",
        "    #train_dataset = pd.read_csv('X_train.csv')\n",
        "    #train_labels = pd.read_csv('Y_train.csv')\n",
        "else:\n",
        "    from google.colab import files\n",
        "    import io\n",
        "    # Remember to only upload one file at a time\n",
        "    uploaded = files.upload()    # Will prompt you to select file: remember to choose the right one!\n",
        "    X = pd.read_csv(io.BytesIO(uploaded['X_train.csv'])) # python will expect the first file to be called X_train\n",
        "\n",
        "    uploaded = files.upload()    # Will prompt you to select file\n",
        "    Y = pd.read_csv(io.BytesIO(uploaded['Y_train.csv']))\n",
        "\n",
        "    #uploaded = files.upload()    # Will prompt you to select file\n",
        "    #test_dataset = pd.read_csv(io.BytesIO(uploaded['X_test.csv']))\n",
        "\n",
        "    #uploaded = files.upload()    # Will prompt you to select file\n",
        "    #test_labels = pd.read_csv(io.BytesIO(uploaded['Y_test.csv']))\n",
        "\n",
        "# We need to upload the files in the exact order as we see above!\n"
      ],
      "execution_count": 4,
      "outputs": [
        {
          "output_type": "display_data",
          "data": {
            "text/plain": [
              "<IPython.core.display.HTML object>"
            ],
            "text/html": [
              "\n",
              "     <input type=\"file\" id=\"files-33770842-ef47-4b0b-903f-d22672159256\" name=\"files[]\" multiple disabled\n",
              "        style=\"border:none\" />\n",
              "     <output id=\"result-33770842-ef47-4b0b-903f-d22672159256\">\n",
              "      Upload widget is only available when the cell has been executed in the\n",
              "      current browser session. Please rerun this cell to enable.\n",
              "      </output>\n",
              "      <script>// Copyright 2017 Google LLC\n",
              "//\n",
              "// Licensed under the Apache License, Version 2.0 (the \"License\");\n",
              "// you may not use this file except in compliance with the License.\n",
              "// You may obtain a copy of the License at\n",
              "//\n",
              "//      http://www.apache.org/licenses/LICENSE-2.0\n",
              "//\n",
              "// Unless required by applicable law or agreed to in writing, software\n",
              "// distributed under the License is distributed on an \"AS IS\" BASIS,\n",
              "// WITHOUT WARRANTIES OR CONDITIONS OF ANY KIND, either express or implied.\n",
              "// See the License for the specific language governing permissions and\n",
              "// limitations under the License.\n",
              "\n",
              "/**\n",
              " * @fileoverview Helpers for google.colab Python module.\n",
              " */\n",
              "(function(scope) {\n",
              "function span(text, styleAttributes = {}) {\n",
              "  const element = document.createElement('span');\n",
              "  element.textContent = text;\n",
              "  for (const key of Object.keys(styleAttributes)) {\n",
              "    element.style[key] = styleAttributes[key];\n",
              "  }\n",
              "  return element;\n",
              "}\n",
              "\n",
              "// Max number of bytes which will be uploaded at a time.\n",
              "const MAX_PAYLOAD_SIZE = 100 * 1024;\n",
              "\n",
              "function _uploadFiles(inputId, outputId) {\n",
              "  const steps = uploadFilesStep(inputId, outputId);\n",
              "  const outputElement = document.getElementById(outputId);\n",
              "  // Cache steps on the outputElement to make it available for the next call\n",
              "  // to uploadFilesContinue from Python.\n",
              "  outputElement.steps = steps;\n",
              "\n",
              "  return _uploadFilesContinue(outputId);\n",
              "}\n",
              "\n",
              "// This is roughly an async generator (not supported in the browser yet),\n",
              "// where there are multiple asynchronous steps and the Python side is going\n",
              "// to poll for completion of each step.\n",
              "// This uses a Promise to block the python side on completion of each step,\n",
              "// then passes the result of the previous step as the input to the next step.\n",
              "function _uploadFilesContinue(outputId) {\n",
              "  const outputElement = document.getElementById(outputId);\n",
              "  const steps = outputElement.steps;\n",
              "\n",
              "  const next = steps.next(outputElement.lastPromiseValue);\n",
              "  return Promise.resolve(next.value.promise).then((value) => {\n",
              "    // Cache the last promise value to make it available to the next\n",
              "    // step of the generator.\n",
              "    outputElement.lastPromiseValue = value;\n",
              "    return next.value.response;\n",
              "  });\n",
              "}\n",
              "\n",
              "/**\n",
              " * Generator function which is called between each async step of the upload\n",
              " * process.\n",
              " * @param {string} inputId Element ID of the input file picker element.\n",
              " * @param {string} outputId Element ID of the output display.\n",
              " * @return {!Iterable<!Object>} Iterable of next steps.\n",
              " */\n",
              "function* uploadFilesStep(inputId, outputId) {\n",
              "  const inputElement = document.getElementById(inputId);\n",
              "  inputElement.disabled = false;\n",
              "\n",
              "  const outputElement = document.getElementById(outputId);\n",
              "  outputElement.innerHTML = '';\n",
              "\n",
              "  const pickedPromise = new Promise((resolve) => {\n",
              "    inputElement.addEventListener('change', (e) => {\n",
              "      resolve(e.target.files);\n",
              "    });\n",
              "  });\n",
              "\n",
              "  const cancel = document.createElement('button');\n",
              "  inputElement.parentElement.appendChild(cancel);\n",
              "  cancel.textContent = 'Cancel upload';\n",
              "  const cancelPromise = new Promise((resolve) => {\n",
              "    cancel.onclick = () => {\n",
              "      resolve(null);\n",
              "    };\n",
              "  });\n",
              "\n",
              "  // Wait for the user to pick the files.\n",
              "  const files = yield {\n",
              "    promise: Promise.race([pickedPromise, cancelPromise]),\n",
              "    response: {\n",
              "      action: 'starting',\n",
              "    }\n",
              "  };\n",
              "\n",
              "  cancel.remove();\n",
              "\n",
              "  // Disable the input element since further picks are not allowed.\n",
              "  inputElement.disabled = true;\n",
              "\n",
              "  if (!files) {\n",
              "    return {\n",
              "      response: {\n",
              "        action: 'complete',\n",
              "      }\n",
              "    };\n",
              "  }\n",
              "\n",
              "  for (const file of files) {\n",
              "    const li = document.createElement('li');\n",
              "    li.append(span(file.name, {fontWeight: 'bold'}));\n",
              "    li.append(span(\n",
              "        `(${file.type || 'n/a'}) - ${file.size} bytes, ` +\n",
              "        `last modified: ${\n",
              "            file.lastModifiedDate ? file.lastModifiedDate.toLocaleDateString() :\n",
              "                                    'n/a'} - `));\n",
              "    const percent = span('0% done');\n",
              "    li.appendChild(percent);\n",
              "\n",
              "    outputElement.appendChild(li);\n",
              "\n",
              "    const fileDataPromise = new Promise((resolve) => {\n",
              "      const reader = new FileReader();\n",
              "      reader.onload = (e) => {\n",
              "        resolve(e.target.result);\n",
              "      };\n",
              "      reader.readAsArrayBuffer(file);\n",
              "    });\n",
              "    // Wait for the data to be ready.\n",
              "    let fileData = yield {\n",
              "      promise: fileDataPromise,\n",
              "      response: {\n",
              "        action: 'continue',\n",
              "      }\n",
              "    };\n",
              "\n",
              "    // Use a chunked sending to avoid message size limits. See b/62115660.\n",
              "    let position = 0;\n",
              "    do {\n",
              "      const length = Math.min(fileData.byteLength - position, MAX_PAYLOAD_SIZE);\n",
              "      const chunk = new Uint8Array(fileData, position, length);\n",
              "      position += length;\n",
              "\n",
              "      const base64 = btoa(String.fromCharCode.apply(null, chunk));\n",
              "      yield {\n",
              "        response: {\n",
              "          action: 'append',\n",
              "          file: file.name,\n",
              "          data: base64,\n",
              "        },\n",
              "      };\n",
              "\n",
              "      let percentDone = fileData.byteLength === 0 ?\n",
              "          100 :\n",
              "          Math.round((position / fileData.byteLength) * 100);\n",
              "      percent.textContent = `${percentDone}% done`;\n",
              "\n",
              "    } while (position < fileData.byteLength);\n",
              "  }\n",
              "\n",
              "  // All done.\n",
              "  yield {\n",
              "    response: {\n",
              "      action: 'complete',\n",
              "    }\n",
              "  };\n",
              "}\n",
              "\n",
              "scope.google = scope.google || {};\n",
              "scope.google.colab = scope.google.colab || {};\n",
              "scope.google.colab._files = {\n",
              "  _uploadFiles,\n",
              "  _uploadFilesContinue,\n",
              "};\n",
              "})(self);\n",
              "</script> "
            ]
          },
          "metadata": {}
        },
        {
          "output_type": "stream",
          "name": "stdout",
          "text": [
            "Saving X_train.csv to X_train.csv\n"
          ]
        },
        {
          "output_type": "display_data",
          "data": {
            "text/plain": [
              "<IPython.core.display.HTML object>"
            ],
            "text/html": [
              "\n",
              "     <input type=\"file\" id=\"files-d1bdaf31-79dc-4d83-9d5e-8f90aa5f7eb8\" name=\"files[]\" multiple disabled\n",
              "        style=\"border:none\" />\n",
              "     <output id=\"result-d1bdaf31-79dc-4d83-9d5e-8f90aa5f7eb8\">\n",
              "      Upload widget is only available when the cell has been executed in the\n",
              "      current browser session. Please rerun this cell to enable.\n",
              "      </output>\n",
              "      <script>// Copyright 2017 Google LLC\n",
              "//\n",
              "// Licensed under the Apache License, Version 2.0 (the \"License\");\n",
              "// you may not use this file except in compliance with the License.\n",
              "// You may obtain a copy of the License at\n",
              "//\n",
              "//      http://www.apache.org/licenses/LICENSE-2.0\n",
              "//\n",
              "// Unless required by applicable law or agreed to in writing, software\n",
              "// distributed under the License is distributed on an \"AS IS\" BASIS,\n",
              "// WITHOUT WARRANTIES OR CONDITIONS OF ANY KIND, either express or implied.\n",
              "// See the License for the specific language governing permissions and\n",
              "// limitations under the License.\n",
              "\n",
              "/**\n",
              " * @fileoverview Helpers for google.colab Python module.\n",
              " */\n",
              "(function(scope) {\n",
              "function span(text, styleAttributes = {}) {\n",
              "  const element = document.createElement('span');\n",
              "  element.textContent = text;\n",
              "  for (const key of Object.keys(styleAttributes)) {\n",
              "    element.style[key] = styleAttributes[key];\n",
              "  }\n",
              "  return element;\n",
              "}\n",
              "\n",
              "// Max number of bytes which will be uploaded at a time.\n",
              "const MAX_PAYLOAD_SIZE = 100 * 1024;\n",
              "\n",
              "function _uploadFiles(inputId, outputId) {\n",
              "  const steps = uploadFilesStep(inputId, outputId);\n",
              "  const outputElement = document.getElementById(outputId);\n",
              "  // Cache steps on the outputElement to make it available for the next call\n",
              "  // to uploadFilesContinue from Python.\n",
              "  outputElement.steps = steps;\n",
              "\n",
              "  return _uploadFilesContinue(outputId);\n",
              "}\n",
              "\n",
              "// This is roughly an async generator (not supported in the browser yet),\n",
              "// where there are multiple asynchronous steps and the Python side is going\n",
              "// to poll for completion of each step.\n",
              "// This uses a Promise to block the python side on completion of each step,\n",
              "// then passes the result of the previous step as the input to the next step.\n",
              "function _uploadFilesContinue(outputId) {\n",
              "  const outputElement = document.getElementById(outputId);\n",
              "  const steps = outputElement.steps;\n",
              "\n",
              "  const next = steps.next(outputElement.lastPromiseValue);\n",
              "  return Promise.resolve(next.value.promise).then((value) => {\n",
              "    // Cache the last promise value to make it available to the next\n",
              "    // step of the generator.\n",
              "    outputElement.lastPromiseValue = value;\n",
              "    return next.value.response;\n",
              "  });\n",
              "}\n",
              "\n",
              "/**\n",
              " * Generator function which is called between each async step of the upload\n",
              " * process.\n",
              " * @param {string} inputId Element ID of the input file picker element.\n",
              " * @param {string} outputId Element ID of the output display.\n",
              " * @return {!Iterable<!Object>} Iterable of next steps.\n",
              " */\n",
              "function* uploadFilesStep(inputId, outputId) {\n",
              "  const inputElement = document.getElementById(inputId);\n",
              "  inputElement.disabled = false;\n",
              "\n",
              "  const outputElement = document.getElementById(outputId);\n",
              "  outputElement.innerHTML = '';\n",
              "\n",
              "  const pickedPromise = new Promise((resolve) => {\n",
              "    inputElement.addEventListener('change', (e) => {\n",
              "      resolve(e.target.files);\n",
              "    });\n",
              "  });\n",
              "\n",
              "  const cancel = document.createElement('button');\n",
              "  inputElement.parentElement.appendChild(cancel);\n",
              "  cancel.textContent = 'Cancel upload';\n",
              "  const cancelPromise = new Promise((resolve) => {\n",
              "    cancel.onclick = () => {\n",
              "      resolve(null);\n",
              "    };\n",
              "  });\n",
              "\n",
              "  // Wait for the user to pick the files.\n",
              "  const files = yield {\n",
              "    promise: Promise.race([pickedPromise, cancelPromise]),\n",
              "    response: {\n",
              "      action: 'starting',\n",
              "    }\n",
              "  };\n",
              "\n",
              "  cancel.remove();\n",
              "\n",
              "  // Disable the input element since further picks are not allowed.\n",
              "  inputElement.disabled = true;\n",
              "\n",
              "  if (!files) {\n",
              "    return {\n",
              "      response: {\n",
              "        action: 'complete',\n",
              "      }\n",
              "    };\n",
              "  }\n",
              "\n",
              "  for (const file of files) {\n",
              "    const li = document.createElement('li');\n",
              "    li.append(span(file.name, {fontWeight: 'bold'}));\n",
              "    li.append(span(\n",
              "        `(${file.type || 'n/a'}) - ${file.size} bytes, ` +\n",
              "        `last modified: ${\n",
              "            file.lastModifiedDate ? file.lastModifiedDate.toLocaleDateString() :\n",
              "                                    'n/a'} - `));\n",
              "    const percent = span('0% done');\n",
              "    li.appendChild(percent);\n",
              "\n",
              "    outputElement.appendChild(li);\n",
              "\n",
              "    const fileDataPromise = new Promise((resolve) => {\n",
              "      const reader = new FileReader();\n",
              "      reader.onload = (e) => {\n",
              "        resolve(e.target.result);\n",
              "      };\n",
              "      reader.readAsArrayBuffer(file);\n",
              "    });\n",
              "    // Wait for the data to be ready.\n",
              "    let fileData = yield {\n",
              "      promise: fileDataPromise,\n",
              "      response: {\n",
              "        action: 'continue',\n",
              "      }\n",
              "    };\n",
              "\n",
              "    // Use a chunked sending to avoid message size limits. See b/62115660.\n",
              "    let position = 0;\n",
              "    do {\n",
              "      const length = Math.min(fileData.byteLength - position, MAX_PAYLOAD_SIZE);\n",
              "      const chunk = new Uint8Array(fileData, position, length);\n",
              "      position += length;\n",
              "\n",
              "      const base64 = btoa(String.fromCharCode.apply(null, chunk));\n",
              "      yield {\n",
              "        response: {\n",
              "          action: 'append',\n",
              "          file: file.name,\n",
              "          data: base64,\n",
              "        },\n",
              "      };\n",
              "\n",
              "      let percentDone = fileData.byteLength === 0 ?\n",
              "          100 :\n",
              "          Math.round((position / fileData.byteLength) * 100);\n",
              "      percent.textContent = `${percentDone}% done`;\n",
              "\n",
              "    } while (position < fileData.byteLength);\n",
              "  }\n",
              "\n",
              "  // All done.\n",
              "  yield {\n",
              "    response: {\n",
              "      action: 'complete',\n",
              "    }\n",
              "  };\n",
              "}\n",
              "\n",
              "scope.google = scope.google || {};\n",
              "scope.google.colab = scope.google.colab || {};\n",
              "scope.google.colab._files = {\n",
              "  _uploadFiles,\n",
              "  _uploadFilesContinue,\n",
              "};\n",
              "})(self);\n",
              "</script> "
            ]
          },
          "metadata": {}
        },
        {
          "output_type": "stream",
          "name": "stdout",
          "text": [
            "Saving Y_train.csv to Y_train.csv\n"
          ]
        }
      ]
    },
    {
      "cell_type": "code",
      "source": [
        "X.head()"
      ],
      "metadata": {
        "colab": {
          "base_uri": "https://localhost:8080/",
          "height": 270
        },
        "id": "g0LWapiIq0Vk",
        "outputId": "2975eb1d-c44d-4398-a79e-d5fe7b4df221"
      },
      "execution_count": 7,
      "outputs": [
        {
          "output_type": "execute_result",
          "data": {
            "text/plain": [
              "    Loan_ID Gender Married Dependents Education Self_Employed  \\\n",
              "0  LP001031   Male      No          0  Graduate            No   \n",
              "1  LP001032   Male      No          0  Graduate            No   \n",
              "2  LP001824   Male     Yes          1  Graduate            No   \n",
              "3  LP002928   Male     Yes          0  Graduate            No   \n",
              "4  LP001814   Male     Yes          2  Graduate            No   \n",
              "\n",
              "   ApplicantIncome  CoapplicantIncome  LoanAmount  Loan_Amount_Term  \\\n",
              "0              NaN                0.0       125.0             360.0   \n",
              "1           4950.0                0.0       125.0             360.0   \n",
              "2           2882.0             1843.0       123.0             480.0   \n",
              "3           3000.0             3416.0        56.0             180.0   \n",
              "4           9703.0                0.0       112.0             360.0   \n",
              "\n",
              "   Credit_History Property_Area  \n",
              "0             1.0         Urban  \n",
              "1             1.0         Urban  \n",
              "2             1.0     Semiurban  \n",
              "3             1.0     Semiurban  \n",
              "4             1.0         Urban  "
            ],
            "text/html": [
              "\n",
              "  <div id=\"df-0e86559f-a957-4e2d-9c8a-018413e85117\">\n",
              "    <div class=\"colab-df-container\">\n",
              "      <div>\n",
              "<style scoped>\n",
              "    .dataframe tbody tr th:only-of-type {\n",
              "        vertical-align: middle;\n",
              "    }\n",
              "\n",
              "    .dataframe tbody tr th {\n",
              "        vertical-align: top;\n",
              "    }\n",
              "\n",
              "    .dataframe thead th {\n",
              "        text-align: right;\n",
              "    }\n",
              "</style>\n",
              "<table border=\"1\" class=\"dataframe\">\n",
              "  <thead>\n",
              "    <tr style=\"text-align: right;\">\n",
              "      <th></th>\n",
              "      <th>Loan_ID</th>\n",
              "      <th>Gender</th>\n",
              "      <th>Married</th>\n",
              "      <th>Dependents</th>\n",
              "      <th>Education</th>\n",
              "      <th>Self_Employed</th>\n",
              "      <th>ApplicantIncome</th>\n",
              "      <th>CoapplicantIncome</th>\n",
              "      <th>LoanAmount</th>\n",
              "      <th>Loan_Amount_Term</th>\n",
              "      <th>Credit_History</th>\n",
              "      <th>Property_Area</th>\n",
              "    </tr>\n",
              "  </thead>\n",
              "  <tbody>\n",
              "    <tr>\n",
              "      <th>0</th>\n",
              "      <td>LP001031</td>\n",
              "      <td>Male</td>\n",
              "      <td>No</td>\n",
              "      <td>0</td>\n",
              "      <td>Graduate</td>\n",
              "      <td>No</td>\n",
              "      <td>NaN</td>\n",
              "      <td>0.0</td>\n",
              "      <td>125.0</td>\n",
              "      <td>360.0</td>\n",
              "      <td>1.0</td>\n",
              "      <td>Urban</td>\n",
              "    </tr>\n",
              "    <tr>\n",
              "      <th>1</th>\n",
              "      <td>LP001032</td>\n",
              "      <td>Male</td>\n",
              "      <td>No</td>\n",
              "      <td>0</td>\n",
              "      <td>Graduate</td>\n",
              "      <td>No</td>\n",
              "      <td>4950.0</td>\n",
              "      <td>0.0</td>\n",
              "      <td>125.0</td>\n",
              "      <td>360.0</td>\n",
              "      <td>1.0</td>\n",
              "      <td>Urban</td>\n",
              "    </tr>\n",
              "    <tr>\n",
              "      <th>2</th>\n",
              "      <td>LP001824</td>\n",
              "      <td>Male</td>\n",
              "      <td>Yes</td>\n",
              "      <td>1</td>\n",
              "      <td>Graduate</td>\n",
              "      <td>No</td>\n",
              "      <td>2882.0</td>\n",
              "      <td>1843.0</td>\n",
              "      <td>123.0</td>\n",
              "      <td>480.0</td>\n",
              "      <td>1.0</td>\n",
              "      <td>Semiurban</td>\n",
              "    </tr>\n",
              "    <tr>\n",
              "      <th>3</th>\n",
              "      <td>LP002928</td>\n",
              "      <td>Male</td>\n",
              "      <td>Yes</td>\n",
              "      <td>0</td>\n",
              "      <td>Graduate</td>\n",
              "      <td>No</td>\n",
              "      <td>3000.0</td>\n",
              "      <td>3416.0</td>\n",
              "      <td>56.0</td>\n",
              "      <td>180.0</td>\n",
              "      <td>1.0</td>\n",
              "      <td>Semiurban</td>\n",
              "    </tr>\n",
              "    <tr>\n",
              "      <th>4</th>\n",
              "      <td>LP001814</td>\n",
              "      <td>Male</td>\n",
              "      <td>Yes</td>\n",
              "      <td>2</td>\n",
              "      <td>Graduate</td>\n",
              "      <td>No</td>\n",
              "      <td>9703.0</td>\n",
              "      <td>0.0</td>\n",
              "      <td>112.0</td>\n",
              "      <td>360.0</td>\n",
              "      <td>1.0</td>\n",
              "      <td>Urban</td>\n",
              "    </tr>\n",
              "  </tbody>\n",
              "</table>\n",
              "</div>\n",
              "      <button class=\"colab-df-convert\" onclick=\"convertToInteractive('df-0e86559f-a957-4e2d-9c8a-018413e85117')\"\n",
              "              title=\"Convert this dataframe to an interactive table.\"\n",
              "              style=\"display:none;\">\n",
              "        \n",
              "  <svg xmlns=\"http://www.w3.org/2000/svg\" height=\"24px\"viewBox=\"0 0 24 24\"\n",
              "       width=\"24px\">\n",
              "    <path d=\"M0 0h24v24H0V0z\" fill=\"none\"/>\n",
              "    <path d=\"M18.56 5.44l.94 2.06.94-2.06 2.06-.94-2.06-.94-.94-2.06-.94 2.06-2.06.94zm-11 1L8.5 8.5l.94-2.06 2.06-.94-2.06-.94L8.5 2.5l-.94 2.06-2.06.94zm10 10l.94 2.06.94-2.06 2.06-.94-2.06-.94-.94-2.06-.94 2.06-2.06.94z\"/><path d=\"M17.41 7.96l-1.37-1.37c-.4-.4-.92-.59-1.43-.59-.52 0-1.04.2-1.43.59L10.3 9.45l-7.72 7.72c-.78.78-.78 2.05 0 2.83L4 21.41c.39.39.9.59 1.41.59.51 0 1.02-.2 1.41-.59l7.78-7.78 2.81-2.81c.8-.78.8-2.07 0-2.86zM5.41 20L4 18.59l7.72-7.72 1.47 1.35L5.41 20z\"/>\n",
              "  </svg>\n",
              "      </button>\n",
              "      \n",
              "  <style>\n",
              "    .colab-df-container {\n",
              "      display:flex;\n",
              "      flex-wrap:wrap;\n",
              "      gap: 12px;\n",
              "    }\n",
              "\n",
              "    .colab-df-convert {\n",
              "      background-color: #E8F0FE;\n",
              "      border: none;\n",
              "      border-radius: 50%;\n",
              "      cursor: pointer;\n",
              "      display: none;\n",
              "      fill: #1967D2;\n",
              "      height: 32px;\n",
              "      padding: 0 0 0 0;\n",
              "      width: 32px;\n",
              "    }\n",
              "\n",
              "    .colab-df-convert:hover {\n",
              "      background-color: #E2EBFA;\n",
              "      box-shadow: 0px 1px 2px rgba(60, 64, 67, 0.3), 0px 1px 3px 1px rgba(60, 64, 67, 0.15);\n",
              "      fill: #174EA6;\n",
              "    }\n",
              "\n",
              "    [theme=dark] .colab-df-convert {\n",
              "      background-color: #3B4455;\n",
              "      fill: #D2E3FC;\n",
              "    }\n",
              "\n",
              "    [theme=dark] .colab-df-convert:hover {\n",
              "      background-color: #434B5C;\n",
              "      box-shadow: 0px 1px 3px 1px rgba(0, 0, 0, 0.15);\n",
              "      filter: drop-shadow(0px 1px 2px rgba(0, 0, 0, 0.3));\n",
              "      fill: #FFFFFF;\n",
              "    }\n",
              "  </style>\n",
              "\n",
              "      <script>\n",
              "        const buttonEl =\n",
              "          document.querySelector('#df-0e86559f-a957-4e2d-9c8a-018413e85117 button.colab-df-convert');\n",
              "        buttonEl.style.display =\n",
              "          google.colab.kernel.accessAllowed ? 'block' : 'none';\n",
              "\n",
              "        async function convertToInteractive(key) {\n",
              "          const element = document.querySelector('#df-0e86559f-a957-4e2d-9c8a-018413e85117');\n",
              "          const dataTable =\n",
              "            await google.colab.kernel.invokeFunction('convertToInteractive',\n",
              "                                                     [key], {});\n",
              "          if (!dataTable) return;\n",
              "\n",
              "          const docLinkHtml = 'Like what you see? Visit the ' +\n",
              "            '<a target=\"_blank\" href=https://colab.research.google.com/notebooks/data_table.ipynb>data table notebook</a>'\n",
              "            + ' to learn more about interactive tables.';\n",
              "          element.innerHTML = '';\n",
              "          dataTable['output_type'] = 'display_data';\n",
              "          await google.colab.output.renderOutput(dataTable, element);\n",
              "          const docLink = document.createElement('div');\n",
              "          docLink.innerHTML = docLinkHtml;\n",
              "          element.appendChild(docLink);\n",
              "        }\n",
              "      </script>\n",
              "    </div>\n",
              "  </div>\n",
              "  "
            ]
          },
          "metadata": {},
          "execution_count": 7
        }
      ]
    },
    {
      "cell_type": "code",
      "source": [
        "Y.head()"
      ],
      "metadata": {
        "colab": {
          "base_uri": "https://localhost:8080/",
          "height": 206
        },
        "id": "7q4FxJXdq3MU",
        "outputId": "3dde13a0-81ac-4db4-bed4-ed11746935c6"
      },
      "execution_count": 8,
      "outputs": [
        {
          "output_type": "execute_result",
          "data": {
            "text/plain": [
              "  Target\n",
              "0      Y\n",
              "1      Y\n",
              "2      Y\n",
              "3      Y\n",
              "4      Y"
            ],
            "text/html": [
              "\n",
              "  <div id=\"df-221bfc72-f976-4789-ac54-69acdffdabe3\">\n",
              "    <div class=\"colab-df-container\">\n",
              "      <div>\n",
              "<style scoped>\n",
              "    .dataframe tbody tr th:only-of-type {\n",
              "        vertical-align: middle;\n",
              "    }\n",
              "\n",
              "    .dataframe tbody tr th {\n",
              "        vertical-align: top;\n",
              "    }\n",
              "\n",
              "    .dataframe thead th {\n",
              "        text-align: right;\n",
              "    }\n",
              "</style>\n",
              "<table border=\"1\" class=\"dataframe\">\n",
              "  <thead>\n",
              "    <tr style=\"text-align: right;\">\n",
              "      <th></th>\n",
              "      <th>Target</th>\n",
              "    </tr>\n",
              "  </thead>\n",
              "  <tbody>\n",
              "    <tr>\n",
              "      <th>0</th>\n",
              "      <td>Y</td>\n",
              "    </tr>\n",
              "    <tr>\n",
              "      <th>1</th>\n",
              "      <td>Y</td>\n",
              "    </tr>\n",
              "    <tr>\n",
              "      <th>2</th>\n",
              "      <td>Y</td>\n",
              "    </tr>\n",
              "    <tr>\n",
              "      <th>3</th>\n",
              "      <td>Y</td>\n",
              "    </tr>\n",
              "    <tr>\n",
              "      <th>4</th>\n",
              "      <td>Y</td>\n",
              "    </tr>\n",
              "  </tbody>\n",
              "</table>\n",
              "</div>\n",
              "      <button class=\"colab-df-convert\" onclick=\"convertToInteractive('df-221bfc72-f976-4789-ac54-69acdffdabe3')\"\n",
              "              title=\"Convert this dataframe to an interactive table.\"\n",
              "              style=\"display:none;\">\n",
              "        \n",
              "  <svg xmlns=\"http://www.w3.org/2000/svg\" height=\"24px\"viewBox=\"0 0 24 24\"\n",
              "       width=\"24px\">\n",
              "    <path d=\"M0 0h24v24H0V0z\" fill=\"none\"/>\n",
              "    <path d=\"M18.56 5.44l.94 2.06.94-2.06 2.06-.94-2.06-.94-.94-2.06-.94 2.06-2.06.94zm-11 1L8.5 8.5l.94-2.06 2.06-.94-2.06-.94L8.5 2.5l-.94 2.06-2.06.94zm10 10l.94 2.06.94-2.06 2.06-.94-2.06-.94-.94-2.06-.94 2.06-2.06.94z\"/><path d=\"M17.41 7.96l-1.37-1.37c-.4-.4-.92-.59-1.43-.59-.52 0-1.04.2-1.43.59L10.3 9.45l-7.72 7.72c-.78.78-.78 2.05 0 2.83L4 21.41c.39.39.9.59 1.41.59.51 0 1.02-.2 1.41-.59l7.78-7.78 2.81-2.81c.8-.78.8-2.07 0-2.86zM5.41 20L4 18.59l7.72-7.72 1.47 1.35L5.41 20z\"/>\n",
              "  </svg>\n",
              "      </button>\n",
              "      \n",
              "  <style>\n",
              "    .colab-df-container {\n",
              "      display:flex;\n",
              "      flex-wrap:wrap;\n",
              "      gap: 12px;\n",
              "    }\n",
              "\n",
              "    .colab-df-convert {\n",
              "      background-color: #E8F0FE;\n",
              "      border: none;\n",
              "      border-radius: 50%;\n",
              "      cursor: pointer;\n",
              "      display: none;\n",
              "      fill: #1967D2;\n",
              "      height: 32px;\n",
              "      padding: 0 0 0 0;\n",
              "      width: 32px;\n",
              "    }\n",
              "\n",
              "    .colab-df-convert:hover {\n",
              "      background-color: #E2EBFA;\n",
              "      box-shadow: 0px 1px 2px rgba(60, 64, 67, 0.3), 0px 1px 3px 1px rgba(60, 64, 67, 0.15);\n",
              "      fill: #174EA6;\n",
              "    }\n",
              "\n",
              "    [theme=dark] .colab-df-convert {\n",
              "      background-color: #3B4455;\n",
              "      fill: #D2E3FC;\n",
              "    }\n",
              "\n",
              "    [theme=dark] .colab-df-convert:hover {\n",
              "      background-color: #434B5C;\n",
              "      box-shadow: 0px 1px 3px 1px rgba(0, 0, 0, 0.15);\n",
              "      filter: drop-shadow(0px 1px 2px rgba(0, 0, 0, 0.3));\n",
              "      fill: #FFFFFF;\n",
              "    }\n",
              "  </style>\n",
              "\n",
              "      <script>\n",
              "        const buttonEl =\n",
              "          document.querySelector('#df-221bfc72-f976-4789-ac54-69acdffdabe3 button.colab-df-convert');\n",
              "        buttonEl.style.display =\n",
              "          google.colab.kernel.accessAllowed ? 'block' : 'none';\n",
              "\n",
              "        async function convertToInteractive(key) {\n",
              "          const element = document.querySelector('#df-221bfc72-f976-4789-ac54-69acdffdabe3');\n",
              "          const dataTable =\n",
              "            await google.colab.kernel.invokeFunction('convertToInteractive',\n",
              "                                                     [key], {});\n",
              "          if (!dataTable) return;\n",
              "\n",
              "          const docLinkHtml = 'Like what you see? Visit the ' +\n",
              "            '<a target=\"_blank\" href=https://colab.research.google.com/notebooks/data_table.ipynb>data table notebook</a>'\n",
              "            + ' to learn more about interactive tables.';\n",
              "          element.innerHTML = '';\n",
              "          dataTable['output_type'] = 'display_data';\n",
              "          await google.colab.output.renderOutput(dataTable, element);\n",
              "          const docLink = document.createElement('div');\n",
              "          docLink.innerHTML = docLinkHtml;\n",
              "          element.appendChild(docLink);\n",
              "        }\n",
              "      </script>\n",
              "    </div>\n",
              "  </div>\n",
              "  "
            ]
          },
          "metadata": {},
          "execution_count": 8
        }
      ]
    },
    {
      "cell_type": "markdown",
      "source": [
        "First, an observation. This dataset has labels, as made clear by the fact that there is a dedicated dataset storing them (typically, the variable Y indicates labels, or outputs, and the label X indicates input features). Since we have labels, we can use them to train our model: this is a **supervised** ML task."
      ],
      "metadata": {
        "id": "W-5YhH62dozx"
      }
    },
    {
      "cell_type": "markdown",
      "source": [
        "**1.2.0 Dataset Split**\n",
        "\n",
        "Let's split both the input features and the labels into a training set and a test set. Scikit-learn has a helpful function for this: \"train_test_split\".\n",
        "\n",
        "The function can split multiple datasets at the same time. Note that if the datasets you need to split are related (that is, each row from one dataset correspond to the same row from another dataset), you **need** to split them at the same time. Otherwise, the correspondence will get lost.\n",
        "\n",
        "Excercise 0 below will help you understand this point."
      ],
      "metadata": {
        "id": "fDryKgoBIr8g"
      }
    },
    {
      "cell_type": "code",
      "source": [
        "from sklearn.model_selection import train_test_split\n",
        "\n",
        "\n",
        "train_dataset, test_dataset, train_labels, test_labels = train_test_split(X, Y, test_size= 0.2)\n"
      ],
      "metadata": {
        "id": "40d7JzhLIrpH"
      },
      "execution_count": 9,
      "outputs": []
    },
    {
      "cell_type": "markdown",
      "source": [
        "### Excercise 1\n",
        "We'll create a \"toy\" dataset, just to showcase what can happen if we don't split things properly.\n",
        "It's a simple dataset with only 5 datapoints - the labels are simply the english names for the numbers, who appear as digits and in other languages.\n",
        "(Apologies, I have limited knowledge of other languages! I could only incorporate a few languages, and I probably got something wrong, because I relied on Google Translate. Feel free to make corrections and/or add your own language.)\n",
        "\n",
        "Your task is to split the input features and the labels **separately** using the `train_test_split` function (use test_size=0.2) and then print out the results.\n",
        "\n",
        "What do you notice? Are the labels still in the right place? If not, what do you think it's happening? (Remember that `train_test_split` splits the dataset randomly, so if we split datasets separately we get different outputs from two different random processes)."
      ],
      "metadata": {
        "id": "QzMPLJ0aRCPP"
      }
    },
    {
      "cell_type": "code",
      "source": [
        "\n",
        "# Here we are creating a dataframe by giving it a list of data points.\n",
        "toy_X = pd.DataFrame([[1, 'daya','एक'],\n",
        "    [2, 'biyu', 'दो'],\n",
        "    [3, 'uku', 'तीन'],\n",
        "    [4, 'hudu', 'चार'],\n",
        "    [5, 'biyar', 'पांच']], index = [1,2,3,4,5])\n",
        "toy_Y = pd.DataFrame(['one','two','three','four','five'], index= [1,2,3,4,5])\n",
        "\n",
        "# YOUR CODE HERE\n",
        "train_X, test_X = train_test_split(toy_X, test_size = 0.2)\n",
        "train_y, test_y = train_test_split(toy_Y, test_size = 0.2)\n",
        "\n",
        "print('Training inputs:')\n",
        "print(train_X)\n",
        "print('Training labels') \n",
        "print(train_y)\n",
        "\n",
        "print('Test set inputs')\n",
        "print(test_X)\n",
        "print('Test set labels')\n",
        "print(test_y)"
      ],
      "metadata": {
        "id": "-Tn4XNxLMqh6",
        "colab": {
          "base_uri": "https://localhost:8080/"
        },
        "outputId": "1a6307d0-3cc6-431e-c199-577ec996be98"
      },
      "execution_count": 13,
      "outputs": [
        {
          "output_type": "stream",
          "name": "stdout",
          "text": [
            "Training inputs:\n",
            "   0      1     2\n",
            "2  2   biyu    दो\n",
            "1  1   daya    एक\n",
            "4  4   hudu   चार\n",
            "5  5  biyar  पांच\n",
            "Training labels\n",
            "       0\n",
            "1    one\n",
            "5   five\n",
            "3  three\n",
            "2    two\n",
            "Test set inputs\n",
            "   0    1    2\n",
            "3  3  uku  तीन\n",
            "Test set labels\n",
            "      0\n",
            "4  four\n"
          ]
        }
      ]
    },
    {
      "cell_type": "code",
      "source": [
        "toy_X.head()"
      ],
      "metadata": {
        "colab": {
          "base_uri": "https://localhost:8080/",
          "height": 206
        },
        "id": "sRWuYkb6rv9p",
        "outputId": "0a4f60ca-86d2-478d-f486-a24033c88d02"
      },
      "execution_count": 11,
      "outputs": [
        {
          "output_type": "execute_result",
          "data": {
            "text/plain": [
              "   0      1     2\n",
              "1  1   daya    एक\n",
              "2  2   biyu    दो\n",
              "3  3    uku   तीन\n",
              "4  4   hudu   चार\n",
              "5  5  biyar  पांच"
            ],
            "text/html": [
              "\n",
              "  <div id=\"df-a212aa15-88d1-467c-b798-f599e9fd80c7\">\n",
              "    <div class=\"colab-df-container\">\n",
              "      <div>\n",
              "<style scoped>\n",
              "    .dataframe tbody tr th:only-of-type {\n",
              "        vertical-align: middle;\n",
              "    }\n",
              "\n",
              "    .dataframe tbody tr th {\n",
              "        vertical-align: top;\n",
              "    }\n",
              "\n",
              "    .dataframe thead th {\n",
              "        text-align: right;\n",
              "    }\n",
              "</style>\n",
              "<table border=\"1\" class=\"dataframe\">\n",
              "  <thead>\n",
              "    <tr style=\"text-align: right;\">\n",
              "      <th></th>\n",
              "      <th>0</th>\n",
              "      <th>1</th>\n",
              "      <th>2</th>\n",
              "    </tr>\n",
              "  </thead>\n",
              "  <tbody>\n",
              "    <tr>\n",
              "      <th>1</th>\n",
              "      <td>1</td>\n",
              "      <td>daya</td>\n",
              "      <td>एक</td>\n",
              "    </tr>\n",
              "    <tr>\n",
              "      <th>2</th>\n",
              "      <td>2</td>\n",
              "      <td>biyu</td>\n",
              "      <td>दो</td>\n",
              "    </tr>\n",
              "    <tr>\n",
              "      <th>3</th>\n",
              "      <td>3</td>\n",
              "      <td>uku</td>\n",
              "      <td>तीन</td>\n",
              "    </tr>\n",
              "    <tr>\n",
              "      <th>4</th>\n",
              "      <td>4</td>\n",
              "      <td>hudu</td>\n",
              "      <td>चार</td>\n",
              "    </tr>\n",
              "    <tr>\n",
              "      <th>5</th>\n",
              "      <td>5</td>\n",
              "      <td>biyar</td>\n",
              "      <td>पांच</td>\n",
              "    </tr>\n",
              "  </tbody>\n",
              "</table>\n",
              "</div>\n",
              "      <button class=\"colab-df-convert\" onclick=\"convertToInteractive('df-a212aa15-88d1-467c-b798-f599e9fd80c7')\"\n",
              "              title=\"Convert this dataframe to an interactive table.\"\n",
              "              style=\"display:none;\">\n",
              "        \n",
              "  <svg xmlns=\"http://www.w3.org/2000/svg\" height=\"24px\"viewBox=\"0 0 24 24\"\n",
              "       width=\"24px\">\n",
              "    <path d=\"M0 0h24v24H0V0z\" fill=\"none\"/>\n",
              "    <path d=\"M18.56 5.44l.94 2.06.94-2.06 2.06-.94-2.06-.94-.94-2.06-.94 2.06-2.06.94zm-11 1L8.5 8.5l.94-2.06 2.06-.94-2.06-.94L8.5 2.5l-.94 2.06-2.06.94zm10 10l.94 2.06.94-2.06 2.06-.94-2.06-.94-.94-2.06-.94 2.06-2.06.94z\"/><path d=\"M17.41 7.96l-1.37-1.37c-.4-.4-.92-.59-1.43-.59-.52 0-1.04.2-1.43.59L10.3 9.45l-7.72 7.72c-.78.78-.78 2.05 0 2.83L4 21.41c.39.39.9.59 1.41.59.51 0 1.02-.2 1.41-.59l7.78-7.78 2.81-2.81c.8-.78.8-2.07 0-2.86zM5.41 20L4 18.59l7.72-7.72 1.47 1.35L5.41 20z\"/>\n",
              "  </svg>\n",
              "      </button>\n",
              "      \n",
              "  <style>\n",
              "    .colab-df-container {\n",
              "      display:flex;\n",
              "      flex-wrap:wrap;\n",
              "      gap: 12px;\n",
              "    }\n",
              "\n",
              "    .colab-df-convert {\n",
              "      background-color: #E8F0FE;\n",
              "      border: none;\n",
              "      border-radius: 50%;\n",
              "      cursor: pointer;\n",
              "      display: none;\n",
              "      fill: #1967D2;\n",
              "      height: 32px;\n",
              "      padding: 0 0 0 0;\n",
              "      width: 32px;\n",
              "    }\n",
              "\n",
              "    .colab-df-convert:hover {\n",
              "      background-color: #E2EBFA;\n",
              "      box-shadow: 0px 1px 2px rgba(60, 64, 67, 0.3), 0px 1px 3px 1px rgba(60, 64, 67, 0.15);\n",
              "      fill: #174EA6;\n",
              "    }\n",
              "\n",
              "    [theme=dark] .colab-df-convert {\n",
              "      background-color: #3B4455;\n",
              "      fill: #D2E3FC;\n",
              "    }\n",
              "\n",
              "    [theme=dark] .colab-df-convert:hover {\n",
              "      background-color: #434B5C;\n",
              "      box-shadow: 0px 1px 3px 1px rgba(0, 0, 0, 0.15);\n",
              "      filter: drop-shadow(0px 1px 2px rgba(0, 0, 0, 0.3));\n",
              "      fill: #FFFFFF;\n",
              "    }\n",
              "  </style>\n",
              "\n",
              "      <script>\n",
              "        const buttonEl =\n",
              "          document.querySelector('#df-a212aa15-88d1-467c-b798-f599e9fd80c7 button.colab-df-convert');\n",
              "        buttonEl.style.display =\n",
              "          google.colab.kernel.accessAllowed ? 'block' : 'none';\n",
              "\n",
              "        async function convertToInteractive(key) {\n",
              "          const element = document.querySelector('#df-a212aa15-88d1-467c-b798-f599e9fd80c7');\n",
              "          const dataTable =\n",
              "            await google.colab.kernel.invokeFunction('convertToInteractive',\n",
              "                                                     [key], {});\n",
              "          if (!dataTable) return;\n",
              "\n",
              "          const docLinkHtml = 'Like what you see? Visit the ' +\n",
              "            '<a target=\"_blank\" href=https://colab.research.google.com/notebooks/data_table.ipynb>data table notebook</a>'\n",
              "            + ' to learn more about interactive tables.';\n",
              "          element.innerHTML = '';\n",
              "          dataTable['output_type'] = 'display_data';\n",
              "          await google.colab.output.renderOutput(dataTable, element);\n",
              "          const docLink = document.createElement('div');\n",
              "          docLink.innerHTML = docLinkHtml;\n",
              "          element.appendChild(docLink);\n",
              "        }\n",
              "      </script>\n",
              "    </div>\n",
              "  </div>\n",
              "  "
            ]
          },
          "metadata": {},
          "execution_count": 11
        }
      ]
    },
    {
      "cell_type": "code",
      "source": [
        "toy_Y.head()"
      ],
      "metadata": {
        "colab": {
          "base_uri": "https://localhost:8080/",
          "height": 206
        },
        "id": "UsGicdJ2rybd",
        "outputId": "32f8fe90-a546-4335-a90a-baf640c7bc92"
      },
      "execution_count": 12,
      "outputs": [
        {
          "output_type": "execute_result",
          "data": {
            "text/plain": [
              "       0\n",
              "1    one\n",
              "2    two\n",
              "3  three\n",
              "4   four\n",
              "5   five"
            ],
            "text/html": [
              "\n",
              "  <div id=\"df-d82374f7-bef1-46d1-89cf-fe358aa0f75e\">\n",
              "    <div class=\"colab-df-container\">\n",
              "      <div>\n",
              "<style scoped>\n",
              "    .dataframe tbody tr th:only-of-type {\n",
              "        vertical-align: middle;\n",
              "    }\n",
              "\n",
              "    .dataframe tbody tr th {\n",
              "        vertical-align: top;\n",
              "    }\n",
              "\n",
              "    .dataframe thead th {\n",
              "        text-align: right;\n",
              "    }\n",
              "</style>\n",
              "<table border=\"1\" class=\"dataframe\">\n",
              "  <thead>\n",
              "    <tr style=\"text-align: right;\">\n",
              "      <th></th>\n",
              "      <th>0</th>\n",
              "    </tr>\n",
              "  </thead>\n",
              "  <tbody>\n",
              "    <tr>\n",
              "      <th>1</th>\n",
              "      <td>one</td>\n",
              "    </tr>\n",
              "    <tr>\n",
              "      <th>2</th>\n",
              "      <td>two</td>\n",
              "    </tr>\n",
              "    <tr>\n",
              "      <th>3</th>\n",
              "      <td>three</td>\n",
              "    </tr>\n",
              "    <tr>\n",
              "      <th>4</th>\n",
              "      <td>four</td>\n",
              "    </tr>\n",
              "    <tr>\n",
              "      <th>5</th>\n",
              "      <td>five</td>\n",
              "    </tr>\n",
              "  </tbody>\n",
              "</table>\n",
              "</div>\n",
              "      <button class=\"colab-df-convert\" onclick=\"convertToInteractive('df-d82374f7-bef1-46d1-89cf-fe358aa0f75e')\"\n",
              "              title=\"Convert this dataframe to an interactive table.\"\n",
              "              style=\"display:none;\">\n",
              "        \n",
              "  <svg xmlns=\"http://www.w3.org/2000/svg\" height=\"24px\"viewBox=\"0 0 24 24\"\n",
              "       width=\"24px\">\n",
              "    <path d=\"M0 0h24v24H0V0z\" fill=\"none\"/>\n",
              "    <path d=\"M18.56 5.44l.94 2.06.94-2.06 2.06-.94-2.06-.94-.94-2.06-.94 2.06-2.06.94zm-11 1L8.5 8.5l.94-2.06 2.06-.94-2.06-.94L8.5 2.5l-.94 2.06-2.06.94zm10 10l.94 2.06.94-2.06 2.06-.94-2.06-.94-.94-2.06-.94 2.06-2.06.94z\"/><path d=\"M17.41 7.96l-1.37-1.37c-.4-.4-.92-.59-1.43-.59-.52 0-1.04.2-1.43.59L10.3 9.45l-7.72 7.72c-.78.78-.78 2.05 0 2.83L4 21.41c.39.39.9.59 1.41.59.51 0 1.02-.2 1.41-.59l7.78-7.78 2.81-2.81c.8-.78.8-2.07 0-2.86zM5.41 20L4 18.59l7.72-7.72 1.47 1.35L5.41 20z\"/>\n",
              "  </svg>\n",
              "      </button>\n",
              "      \n",
              "  <style>\n",
              "    .colab-df-container {\n",
              "      display:flex;\n",
              "      flex-wrap:wrap;\n",
              "      gap: 12px;\n",
              "    }\n",
              "\n",
              "    .colab-df-convert {\n",
              "      background-color: #E8F0FE;\n",
              "      border: none;\n",
              "      border-radius: 50%;\n",
              "      cursor: pointer;\n",
              "      display: none;\n",
              "      fill: #1967D2;\n",
              "      height: 32px;\n",
              "      padding: 0 0 0 0;\n",
              "      width: 32px;\n",
              "    }\n",
              "\n",
              "    .colab-df-convert:hover {\n",
              "      background-color: #E2EBFA;\n",
              "      box-shadow: 0px 1px 2px rgba(60, 64, 67, 0.3), 0px 1px 3px 1px rgba(60, 64, 67, 0.15);\n",
              "      fill: #174EA6;\n",
              "    }\n",
              "\n",
              "    [theme=dark] .colab-df-convert {\n",
              "      background-color: #3B4455;\n",
              "      fill: #D2E3FC;\n",
              "    }\n",
              "\n",
              "    [theme=dark] .colab-df-convert:hover {\n",
              "      background-color: #434B5C;\n",
              "      box-shadow: 0px 1px 3px 1px rgba(0, 0, 0, 0.15);\n",
              "      filter: drop-shadow(0px 1px 2px rgba(0, 0, 0, 0.3));\n",
              "      fill: #FFFFFF;\n",
              "    }\n",
              "  </style>\n",
              "\n",
              "      <script>\n",
              "        const buttonEl =\n",
              "          document.querySelector('#df-d82374f7-bef1-46d1-89cf-fe358aa0f75e button.colab-df-convert');\n",
              "        buttonEl.style.display =\n",
              "          google.colab.kernel.accessAllowed ? 'block' : 'none';\n",
              "\n",
              "        async function convertToInteractive(key) {\n",
              "          const element = document.querySelector('#df-d82374f7-bef1-46d1-89cf-fe358aa0f75e');\n",
              "          const dataTable =\n",
              "            await google.colab.kernel.invokeFunction('convertToInteractive',\n",
              "                                                     [key], {});\n",
              "          if (!dataTable) return;\n",
              "\n",
              "          const docLinkHtml = 'Like what you see? Visit the ' +\n",
              "            '<a target=\"_blank\" href=https://colab.research.google.com/notebooks/data_table.ipynb>data table notebook</a>'\n",
              "            + ' to learn more about interactive tables.';\n",
              "          element.innerHTML = '';\n",
              "          dataTable['output_type'] = 'display_data';\n",
              "          await google.colab.output.renderOutput(dataTable, element);\n",
              "          const docLink = document.createElement('div');\n",
              "          docLink.innerHTML = docLinkHtml;\n",
              "          element.appendChild(docLink);\n",
              "        }\n",
              "      </script>\n",
              "    </div>\n",
              "  </div>\n",
              "  "
            ]
          },
          "metadata": {},
          "execution_count": 12
        }
      ]
    },
    {
      "cell_type": "markdown",
      "source": [
        "There is technically another way. You can specify the same `random_state` every time you call the `train_test_split` function. Otherwise, the correspondence will get lost. `random_state` is the argument that controls the randomness process. This is because in python random processes are only really 'pseudo-random': random numbers in python are generated in a sequence that are very close to being random, but at the same time they are generated from an initial \"seed\". Using the same seed will generate the same random sequence, and the seed can be controlled via the `random_state` argument: `train_test_split(X, y, test_size=0.2, random_state= 0)`.\n",
        "\n",
        "Try doing the previous exercise again, but this time add `random_state=0` to all `train_test_split` functions. Do you notice any difference?"
      ],
      "metadata": {
        "id": "OmK2vyUGUkyL"
      }
    },
    {
      "cell_type": "code",
      "source": [
        "# Here we are creating a dataframe by giving it a list of data points.\n",
        "toy_X = pd.DataFrame([[1, 'daya','एक'],\n",
        "    [2, 'biyu', 'दो'],\n",
        "    [3, 'uku', 'तीन'],\n",
        "    [4, 'hudu', 'चार'],\n",
        "    [5, 'biyar', 'पांच']], index = [1,2,3,4,5])\n",
        "toy_Y = pd.DataFrame(['one','two','three','four','five'], index= [1,2,3,4,5])\n",
        "\n",
        "# YOUR CODE HERE\n",
        "train_X, test_X = train_test_split(toy_X, test_size = 0.2, random_state=0)\n",
        "train_y, test_y = train_test_split(toy_Y, test_size = 0.2, random_state=0)\n",
        "\n",
        "print('Training inputs:')\n",
        "print(train_X)\n",
        "print('Training labels') \n",
        "print(train_y)\n",
        "\n",
        "print('Test set inputs')\n",
        "print(test_X)\n",
        "print('Test set labels')\n",
        "print(test_y)\n"
      ],
      "metadata": {
        "id": "py44rGuiV4fl",
        "colab": {
          "base_uri": "https://localhost:8080/"
        },
        "outputId": "ab60b3fe-d44a-4ba8-cbe8-fd39bea0b13c"
      },
      "execution_count": 14,
      "outputs": [
        {
          "output_type": "stream",
          "name": "stdout",
          "text": [
            "Training inputs:\n",
            "   0      1     2\n",
            "1  1   daya    एक\n",
            "2  2   biyu    दो\n",
            "4  4   hudu   चार\n",
            "5  5  biyar  पांच\n",
            "Training labels\n",
            "      0\n",
            "1   one\n",
            "2   two\n",
            "4  four\n",
            "5  five\n",
            "Test set inputs\n",
            "   0    1    2\n",
            "3  3  uku  तीन\n",
            "Test set labels\n",
            "       0\n",
            "3  three\n"
          ]
        }
      ]
    },
    {
      "cell_type": "markdown",
      "metadata": {
        "id": "ZeYYLoV9b9fB"
      },
      "source": [
        "**1.2.1 Inspect Dataset**\n",
        "\n",
        "**1.2.1.1 Dimensions of Dataset**\n"
      ]
    },
    {
      "cell_type": "code",
      "metadata": {
        "id": "9lyOFY3_P0-Y",
        "colab": {
          "base_uri": "https://localhost:8080/"
        },
        "outputId": "97cd8b56-648c-4900-9290-fa4e6592f4f6"
      },
      "source": [
        "# Training data\n",
        "# shape of input: \n",
        "# The number or rows is the number of data points\n",
        "# The number or columns is the number of features\n",
        "print(train_dataset.shape)\n",
        "# shape of output:\n",
        "# The number or rows is the number of data points (should be the same as before!)\n",
        "# The number or columns is the number of labels we want to predict\n",
        "print(train_labels.shape)"
      ],
      "execution_count": 15,
      "outputs": [
        {
          "output_type": "stream",
          "name": "stdout",
          "text": [
            "(312, 12)\n",
            "(312, 1)\n"
          ]
        }
      ]
    },
    {
      "cell_type": "code",
      "metadata": {
        "id": "3Nh_Wj7-Keel",
        "colab": {
          "base_uri": "https://localhost:8080/"
        },
        "outputId": "b3fd6823-cd78-46fd-9ea1-cb015c89c985"
      },
      "source": [
        "# Test data\n",
        "# shape of input: \n",
        "# The number or rows is the number of data points\n",
        "# The number or columns is the number of features (should be the same as for the training!)\n",
        "print(test_dataset.shape)\n",
        "# shape of output:\n",
        "# The number or rows is the number of data points (should be the same as before!)\n",
        "# The number or columns is the number of labels we want to predict\n",
        "print(test_labels.shape)"
      ],
      "execution_count": 16,
      "outputs": [
        {
          "output_type": "stream",
          "name": "stdout",
          "text": [
            "(79, 12)\n",
            "(79, 1)\n"
          ]
        }
      ]
    },
    {
      "cell_type": "code",
      "metadata": {
        "id": "7fmOZAI8nrQm",
        "colab": {
          "base_uri": "https://localhost:8080/"
        },
        "outputId": "4c492d77-631a-4344-c2d6-ce1c299dd29b"
      },
      "source": [
        "# list of column titles \n",
        "print(train_dataset.columns)\n",
        "print(train_labels.columns)"
      ],
      "execution_count": 17,
      "outputs": [
        {
          "output_type": "stream",
          "name": "stdout",
          "text": [
            "Index(['Loan_ID', 'Gender', 'Married', 'Dependents', 'Education',\n",
            "       'Self_Employed', 'ApplicantIncome', 'CoapplicantIncome', 'LoanAmount',\n",
            "       'Loan_Amount_Term', 'Credit_History', 'Property_Area'],\n",
            "      dtype='object')\n",
            "Index(['Target'], dtype='object')\n"
          ]
        }
      ]
    },
    {
      "cell_type": "code",
      "metadata": {
        "id": "kkN5TfTNoCJ1",
        "colab": {
          "base_uri": "https://localhost:8080/"
        },
        "outputId": "76586830-1da9-4268-84d5-a330f83afd7d"
      },
      "source": [
        "# list of column (field) data types\n",
        "print(train_dataset.dtypes)\n",
        "print()\n",
        "print(train_labels.dtypes)\n",
        "\n",
        "# Note: object is a Pandas data type for pretty much anything that is not a number\n"
      ],
      "execution_count": 18,
      "outputs": [
        {
          "output_type": "stream",
          "name": "stdout",
          "text": [
            "Loan_ID               object\n",
            "Gender                object\n",
            "Married               object\n",
            "Dependents            object\n",
            "Education             object\n",
            "Self_Employed         object\n",
            "ApplicantIncome      float64\n",
            "CoapplicantIncome    float64\n",
            "LoanAmount           float64\n",
            "Loan_Amount_Term     float64\n",
            "Credit_History       float64\n",
            "Property_Area         object\n",
            "dtype: object\n",
            "\n",
            "Target    object\n",
            "dtype: object\n"
          ]
        }
      ]
    },
    {
      "cell_type": "markdown",
      "metadata": {
        "id": "vxkbyWHMd5aQ"
      },
      "source": [
        "**1.2.1.2 Take a peek at the Dataset**\n",
        "\n",
        "Note that if you see \"NaN\", it means \"Not a Number\". It is not the same as 0. Python replaces empty/missing fields in the data with \"NaN\".\n"
      ]
    },
    {
      "cell_type": "code",
      "metadata": {
        "id": "k68kOMPXeIK5",
        "colab": {
          "base_uri": "https://localhost:8080/"
        },
        "outputId": "f1453da3-2863-46a0-edef-91df963e3f0f"
      },
      "source": [
        "# you can show the first N rows in a dataframe with the function \"head\"\n",
        "print(train_dataset.head(10))\n",
        "# note how the first row has a missing value! We'll get back to it.\n",
        "# Also notice how the first two rows are almost identical, aside from the Loan_ID and the missing value\n",
        "# Could this be the same application submitted twice because the first time someone forgot to add the income?"
      ],
      "execution_count": 19,
      "outputs": [
        {
          "output_type": "stream",
          "name": "stdout",
          "text": [
            "      Loan_ID  Gender Married Dependents     Education Self_Employed  \\\n",
            "299  LP002555    Male     Yes          2      Graduate           Yes   \n",
            "238  LP002097    Male      No          1      Graduate            No   \n",
            "144  LP002659    Male     Yes         3+      Graduate            No   \n",
            "242  LP001028    Male     Yes          2      Graduate            No   \n",
            "139  LP002693    Male     Yes          2      Graduate           Yes   \n",
            "355  LP002984    Male     Yes          2      Graduate            No   \n",
            "83   LP001404  Female     Yes          0      Graduate            No   \n",
            "93   LP001493    Male     Yes          2  Not Graduate            No   \n",
            "363  LP001003    Male     Yes          1      Graduate            No   \n",
            "114  LP001430  Female      No          0      Graduate            No   \n",
            "\n",
            "     ApplicantIncome  CoapplicantIncome  LoanAmount  Loan_Amount_Term  \\\n",
            "299           4583.0             2083.0       160.0             360.0   \n",
            "238           4384.0             1793.0       117.0             360.0   \n",
            "144           3466.0             3428.0       150.0             360.0   \n",
            "242           3073.0             8106.0       200.0             360.0   \n",
            "139           7948.0             7166.0       480.0             360.0   \n",
            "355           7583.0                0.0       187.0             360.0   \n",
            "83            3167.0             2283.0       154.0             360.0   \n",
            "93            4200.0             1430.0       129.0             360.0   \n",
            "363           4583.0             1508.0       128.0             360.0   \n",
            "114           4166.0                0.0        44.0             360.0   \n",
            "\n",
            "     Credit_History Property_Area  \n",
            "299             1.0     Semiurban  \n",
            "238             1.0         Urban  \n",
            "144             1.0         Rural  \n",
            "242             1.0         Urban  \n",
            "139             1.0         Rural  \n",
            "355             1.0         Urban  \n",
            "83              1.0     Semiurban  \n",
            "93              1.0         Rural  \n",
            "363             1.0         Rural  \n",
            "114             1.0     Semiurban  \n"
          ]
        }
      ]
    },
    {
      "cell_type": "markdown",
      "source": [
        "## 2. Data cleaning\n",
        "\n",
        "(If you want to check again the EDA steps, check the notebook from last week.)\n"
      ],
      "metadata": {
        "id": "DAg0coIOd6sc"
      }
    },
    {
      "cell_type": "code",
      "source": [
        "# Data cleaning steps:\n",
        "# 1. replace 'yes' with 'Yes' for 'self_employed'\n",
        "# remember that .loc is a way to access a subset of the dataframe\n",
        "# We can write df.loc[condition_A, condition_B] where condition_A determines\n",
        "# which rows we select and condition_B determines which columns we select\n",
        "train_dataset.loc[train_dataset.Self_Employed=='no','Self_Employed'] = 'No'\n",
        "\n",
        "# 2. replace negative loan amount values with NaN \n",
        "# (we use np.nan because that's how the other missing values are represented in this dataset)\n",
        "train_dataset.loc[train_dataset.LoanAmount<0,'LoanAmount'] = np.nan\n",
        "\n",
        "# 3. replace out of scope Property_Area values with NaN\n",
        "accepted_property_areas = ['Urban','Rural','Semiurban']\n",
        "# remember the lambda notation: it is an anonymous function that lets us specificy\n",
        "# a given (and easy) transformation for its input (in this case, x)\n",
        "train_dataset.loc[train_dataset.Property_Area.map(lambda x: x not in accepted_property_areas),'Property_Area'] = np.nan\n"
      ],
      "metadata": {
        "id": "lTfodHfrvlQZ"
      },
      "execution_count": 20,
      "outputs": []
    },
    {
      "cell_type": "markdown",
      "source": [
        "### Exercise 2\n",
        "Repeat all the steps above for the test dataset"
      ],
      "metadata": {
        "id": "bsOw0QdVXecV"
      }
    },
    {
      "cell_type": "code",
      "source": [
        "# YOUR CODE HERE\n",
        "# YOUR CODE HERE\n",
        "# 1. replace 'yes' with 'Yes' for 'self_employed'\n",
        "test_dataset.loc[test_dataset.Self_Employed=='no','Self_Employed'] = 'No'\n",
        "\n",
        "# 2. replace negative loan amount values with NaN \n",
        "test_dataset.loc[test_dataset.LoanAmount<0,'LoanAmount'] = np.nan\n",
        "\n",
        "# 3. replace out of scope Property_Area values with NaN\n",
        "accepted_property_areas = ['Urban','Rural','Semiurban']\n",
        "test_dataset.loc[test_dataset.Property_Area.map(lambda x: x not in accepted_property_areas),'Property_Area'] = np.nan"
      ],
      "metadata": {
        "id": "td7KzZj1Xawf"
      },
      "execution_count": 21,
      "outputs": []
    },
    {
      "cell_type": "markdown",
      "metadata": {
        "id": "f-xAOJeMiXFB"
      },
      "source": [
        "## 3. Managing Missing Data\n",
        "\n",
        "We will fill in numerical values with the \"average\" value and categorical values with the \"most common\" category (if anything is unclear, refer to week 2 resources)."
      ]
    },
    {
      "cell_type": "markdown",
      "source": [
        "First, though, let's find out how many missing values (or NaN values) there are in each feature, using Pandas `isna()` function. "
      ],
      "metadata": {
        "id": "HICSrJCuxQs3"
      }
    },
    {
      "cell_type": "code",
      "source": [
        "# Number of missing values per column\n",
        "# isna(). returns a True/False value for each element in the dataframe/\n",
        "# True if that value is a NaN value, False otherwise\n",
        "# calling .sum() sums the number of True values in each column\n",
        "# So, the output is the number of missing values in each column\n",
        "train_dataset.isna().sum()"
      ],
      "metadata": {
        "id": "TN7ULKKQv3te",
        "colab": {
          "base_uri": "https://localhost:8080/"
        },
        "outputId": "a4f424f2-500c-40fc-ab22-d15c04e4204c"
      },
      "execution_count": 22,
      "outputs": [
        {
          "output_type": "execute_result",
          "data": {
            "text/plain": [
              "Loan_ID              0\n",
              "Gender               1\n",
              "Married              1\n",
              "Dependents           1\n",
              "Education            1\n",
              "Self_Employed        0\n",
              "ApplicantIncome      3\n",
              "CoapplicantIncome    2\n",
              "LoanAmount           2\n",
              "Loan_Amount_Term     2\n",
              "Credit_History       1\n",
              "Property_Area        4\n",
              "dtype: int64"
            ]
          },
          "metadata": {},
          "execution_count": 22
        }
      ]
    },
    {
      "cell_type": "markdown",
      "source": [
        "### Filling in Missing Data\n",
        "\n",
        "Remember the typical workflow with sklearn functions. These functions are typically objects which follow a specific pipeline:\n",
        "1. create an instance of a given object (like the imputer class)\n",
        "2. fit this instance on the training dataset. This is done via the attribute `.fit()`.\n",
        "3. use the instance on all the relevant datasets (specifically, validation and test sets, as applicable). This is done via the attribute `.transform()`\n",
        "\n",
        "Note that sklearn also allows you to fit and transform all at once by calling the attribute `.fit_transform()`.\n",
        "\n",
        "\n",
        "<br/><br/>\n",
        "\n",
        "<div>\n",
        "<img src=\"https://drive.google.com/uc?export=view&id=1p-R8TJ6xCBaEw4XKDD6F1dCTJp5Vcb8z\" width=\"500\"/>\n",
        "</div>\n"
      ],
      "metadata": {
        "id": "8SftDhkH7Uth"
      }
    },
    {
      "cell_type": "code",
      "metadata": {
        "id": "ALKlOLLnre0C",
        "colab": {
          "base_uri": "https://localhost:8080/"
        },
        "outputId": "fdd05cfc-f040-4b54-8328-5913640ccf86"
      },
      "source": [
        "# handling missing data\n",
        "from sklearn.impute import SimpleImputer \n",
        "\n",
        "train_dataset_no_nans =  train_dataset.copy()\n",
        "\n",
        "# NUMERICAL FEATURES\n",
        "# 1. Imputer\n",
        "imptr_num = SimpleImputer(missing_values = np.nan, strategy = 'mean')  \n",
        "\n",
        "\n",
        "# 2. Fit the imputer object to the feature matrix (only for numeric features)\n",
        "numerical_columns = ['ApplicantIncome', 'CoapplicantIncome',\n",
        "                'LoanAmount', 'Loan_Amount_Term', 'Credit_History']\n",
        "imptr_num = imptr_num.fit(train_dataset_no_nans[numerical_columns]) # fit the data to estimate the parameters (here, the average value)\n",
        "\n",
        "# 3. Call Transform to replace missing data in train_dataset (on specific columns) by the mean of the column to which that missing data belongs to\n",
        "train_dataset_no_nans[numerical_columns] = \\\n",
        "  imptr_num.transform(train_dataset_no_nans[numerical_columns]) # apply the transformation using the parameters estimated above\n",
        "\n",
        "# note column ApplicantIncome in the first row --> before it was a missing value!\n",
        "print(train_dataset_no_nans.head(5))\n",
        "\n",
        "# CATEGORICAL FEATURES\n",
        "# Let's fill all the missing categories with the most common category\n",
        "\n",
        "# let's list all categorical features\n",
        "categorical_columns= ['Gender', 'Married', 'Dependents', 'Education',\n",
        "       'Self_Employed', 'Property_Area']\n",
        "\n",
        "# 1. Imputer\n",
        "imptr_cat = SimpleImputer(missing_values = np.nan, strategy = 'most_frequent')  \n",
        "\n",
        "# 2. Fit the imputer object to the feature matrix (only for categorical features)\n",
        "imptr_cat = imptr_cat.fit(train_dataset_no_nans[categorical_columns])\n",
        "\n",
        "# 3. Call Transform to replace missing data in train_dataset (on specific columns) by the most frequent category of the column to which that missing data belongs to\n",
        "train_dataset_no_nans[categorical_columns] = imptr_cat.transform(train_dataset_no_nans[categorical_columns])  \n"
      ],
      "execution_count": 23,
      "outputs": [
        {
          "output_type": "stream",
          "name": "stdout",
          "text": [
            "      Loan_ID Gender Married Dependents Education Self_Employed  \\\n",
            "299  LP002555   Male     Yes          2  Graduate           Yes   \n",
            "238  LP002097   Male      No          1  Graduate            No   \n",
            "144  LP002659   Male     Yes         3+  Graduate            No   \n",
            "242  LP001028   Male     Yes          2  Graduate            No   \n",
            "139  LP002693   Male     Yes          2  Graduate           Yes   \n",
            "\n",
            "     ApplicantIncome  CoapplicantIncome  LoanAmount  Loan_Amount_Term  \\\n",
            "299           4583.0             2083.0       160.0             360.0   \n",
            "238           4384.0             1793.0       117.0             360.0   \n",
            "144           3466.0             3428.0       150.0             360.0   \n",
            "242           3073.0             8106.0       200.0             360.0   \n",
            "139           7948.0             7166.0       480.0             360.0   \n",
            "\n",
            "     Credit_History Property_Area  \n",
            "299             1.0     Semiurban  \n",
            "238             1.0         Urban  \n",
            "144             1.0         Rural  \n",
            "242             1.0         Urban  \n",
            "139             1.0         Rural  \n"
          ]
        }
      ]
    },
    {
      "cell_type": "markdown",
      "source": [
        "Note: if you want to try more advanced imputation methods, checkout [other scikit-learn methods](https://scikit-learn.org/stable/modules/impute.html) or the [autoimpute package](https://kearnz.github.io/autoimpute-tutorials/)."
      ],
      "metadata": {
        "id": "WrQ5JuN1Z4he"
      }
    },
    {
      "cell_type": "markdown",
      "metadata": {
        "id": "8UngIdVhz8C0"
      },
      "source": [
        "## 4. Encoding categorical Data\n",
        "\n",
        "Data Preprocessing in machine learning requires values of the data in numerical form. Therefore text values in the columns of datasets must be converted into numerical form. \n",
        "\n",
        "We will use OneHotEncoder for all the categorical variables."
      ]
    },
    {
      "cell_type": "code",
      "source": [
        "from sklearn.compose import ColumnTransformer\n",
        "from sklearn.preprocessing import OneHotEncoder\n",
        "# define the transformation\n",
        "# ColumnTransformer takes a list of transformations. Each transformation is expressed\n",
        "# as a tuple (name, transformer, columns).\n",
        "ct_cat = ColumnTransformer(\n",
        "    [\n",
        "        (\n",
        "            \"onehot_categorical\", # --> name of the transformation\n",
        "            OneHotEncoder(), # --> main function to apply \n",
        "            categorical_columns, #-->columns to apply it to (we can give more than one column at once!)\n",
        "        ),\n",
        "    ],\n",
        "    remainder=\"passthrough\", #--> what to do with the non-transformed columns. passthrough=keep them\n",
        "    verbose_feature_names_out=False #--> this keeps columns names simple. Try what happens if you set it as True\n",
        ")\n",
        "\n",
        "# the output is an NUMPY ARRAY with the encoded columns.\n",
        "encoded_array= ct_cat.fit_transform(train_dataset_no_nans) \n",
        "\n",
        "# What if we want a dataframe back? We can combine the array with the info about\n",
        "# the original and transformed column names. \n",
        "# This is stored in the ColumnTransformer object, which we called \"ct\"\n",
        "# We can access it via the \"get_feature_names_out()\" attribute like this:\n",
        "encoded_col_names= ct_cat.get_feature_names_out() #remember python's dot notation\n",
        "print(encoded_col_names) #note the combined name: original column + category (e.g. Gender_Female)\n",
        "\n",
        "train_dataset_no_nans = pd.DataFrame(encoded_array, columns=encoded_col_names)\n",
        "\n",
        "# make sure numerical columns are of type float\n",
        "train_dataset_no_nans= train_dataset_no_nans.astype(dtype={col: \"float64\" for col in numerical_columns})\n"
      ],
      "metadata": {
        "id": "VphUB20hevPv",
        "colab": {
          "base_uri": "https://localhost:8080/"
        },
        "outputId": "3b8993a5-f54f-4eb7-db08-640e141733b9"
      },
      "execution_count": 24,
      "outputs": [
        {
          "output_type": "stream",
          "name": "stdout",
          "text": [
            "['Gender_Female' 'Gender_Male' 'Gender_other' 'Married_No' 'Married_Yes'\n",
            " 'Dependents_0' 'Dependents_1' 'Dependents_2' 'Dependents_3+'\n",
            " 'Education_Graduate' 'Education_Not Graduate' 'Self_Employed_No'\n",
            " 'Self_Employed_Yes' 'Property_Area_Rural' 'Property_Area_Semiurban'\n",
            " 'Property_Area_Urban' 'Loan_ID' 'ApplicantIncome' 'CoapplicantIncome'\n",
            " 'LoanAmount' 'Loan_Amount_Term' 'Credit_History']\n"
          ]
        }
      ]
    },
    {
      "cell_type": "markdown",
      "source": [
        "## Label encoding\n",
        "Let's perform label encoding for the labels."
      ],
      "metadata": {
        "id": "ptxiu8eCf_S6"
      }
    },
    {
      "cell_type": "code",
      "source": [
        "# First check: what are the target categories?\n",
        "train_labels.value_counts()"
      ],
      "metadata": {
        "id": "rW89W_zP_akN"
      },
      "execution_count": null,
      "outputs": []
    },
    {
      "cell_type": "code",
      "metadata": {
        "id": "euLz0XZtCu8u",
        "colab": {
          "base_uri": "https://localhost:8080/"
        },
        "outputId": "80aa109b-640b-493c-c10e-cddb6390903b"
      },
      "source": [
        "from sklearn.preprocessing import LabelEncoder\n",
        "\n",
        "# create an object of the LabelEncoder class\n",
        "lblEncoder_Y = LabelEncoder()   \n",
        "\n",
        "# apply LblEncoder object to our target variables\n",
        "train_encoded_labels = lblEncoder_Y.fit_transform(train_labels['Target']) \n",
        "print(train_encoded_labels)\n"
      ],
      "execution_count": 25,
      "outputs": [
        {
          "output_type": "stream",
          "name": "stdout",
          "text": [
            "[1 1 1 1 1 1 1 0 0 1 1 0 0 0 0 1 0 1 0 1 1 1 0 1 0 0 1 1 0 1 1 1 1 1 0 1 1\n",
            " 1 1 1 1 1 0 1 1 1 1 0 1 1 1 1 1 0 1 1 1 1 0 1 0 0 0 1 1 1 1 0 1 1 1 0 1 0\n",
            " 1 1 0 1 1 1 0 1 1 0 1 1 1 1 1 1 0 1 1 1 0 0 1 1 1 0 1 1 0 1 1 1 1 1 1 0 0\n",
            " 0 1 1 0 1 1 1 0 1 0 1 1 1 1 1 1 1 1 1 1 1 1 1 0 0 0 1 0 1 1 0 1 1 1 0 1 1\n",
            " 1 0 1 1 0 0 1 1 1 1 1 1 1 0 1 0 0 1 0 1 1 0 1 1 1 1 1 1 1 1 1 0 0 1 0 0 1\n",
            " 1 1 0 1 1 1 1 1 1 1 1 1 1 0 1 1 1 1 1 1 1 0 1 1 0 1 1 1 0 1 1 1 1 1 1 1 1\n",
            " 1 0 0 0 1 0 1 1 0 1 1 0 1 1 0 1 1 1 1 1 0 1 1 0 1 1 1 1 0 0 1 0 1 1 1 1 1\n",
            " 1 1 1 1 1 0 0 1 1 1 1 0 1 1 0 0 1 0 0 1 0 1 1 1 1 1 1 0 1 1 0 0 1 1 1 1 1\n",
            " 1 0 1 0 0 1 0 1 1 1 1 0 1 1 1 1]\n"
          ]
        }
      ]
    },
    {
      "cell_type": "markdown",
      "metadata": {
        "id": "876pgyH_jRUc"
      },
      "source": [
        "## Feature Scaling\n",
        "\n",
        "When the data is comprised of feature values with varying scales, many machine learning algorithms can benefit from rescaling the attributes to all have the same scale. \n",
        "\n",
        "We will be using Standardisation (that is, subtract the mean and divide by the variance). This way we control both the average value of each feature and its spread.\n"
      ]
    },
    {
      "cell_type": "code",
      "source": [
        "# create the Scaling object\n",
        "from sklearn.preprocessing import StandardScaler\n",
        "my_scaler_num= StandardScaler()\n",
        "\n",
        "# fit and transform the appropriate columns in the training data\n",
        "train_dataset_no_nans[numerical_columns]= my_scaler_num.fit_transform(train_dataset_no_nans[numerical_columns]) \n",
        "\n",
        "# show results\n",
        "print(train_dataset_no_nans[numerical_columns].head())\n"
      ],
      "metadata": {
        "id": "J3Gpa2h4ha9T",
        "colab": {
          "base_uri": "https://localhost:8080/"
        },
        "outputId": "dc1db87f-d16b-4359-a349-111593718554"
      },
      "execution_count": 26,
      "outputs": [
        {
          "output_type": "stream",
          "name": "stdout",
          "text": [
            "   ApplicantIncome  CoapplicantIncome  LoanAmount  Loan_Amount_Term  \\\n",
            "0        -0.125450           0.229490    0.250068          0.271329   \n",
            "1        -0.160523           0.117721   -0.330462          0.271329   \n",
            "2        -0.322317           0.747866    0.115061          0.271329   \n",
            "3        -0.391582           2.550814    0.790096          0.271329   \n",
            "4         0.467619           2.188529    4.570294          0.271329   \n",
            "\n",
            "   Credit_History  \n",
            "0        0.384807  \n",
            "1        0.384807  \n",
            "2        0.384807  \n",
            "3        0.384807  \n",
            "4        0.384807  \n"
          ]
        }
      ]
    },
    {
      "cell_type": "markdown",
      "metadata": {
        "id": "9t6wx3GBPxAL"
      },
      "source": [
        "###  Exercise 3\n",
        "\n",
        "Perform all the previous data pre-processing steps to the test data and labels.\n",
        "In order, we did:\n",
        "1. fill numerical missing values with SimpleImputer (`imptr_num`)\n",
        "2. fill categorical missing values with SimpleImputer (`imptr_cat`)\n",
        "3. encoded all categorical values with ColumnTransformer (`ct_cat`)\n",
        "4. scaled all numerical features with MinMax or StandardScaler (`my_scaler_num`)\n",
        "\n",
        "Also, we encoded the labels with LabelEncoder (`lblEncoder_Y`)\n",
        "\n",
        "When transforming the test dataset (both input and labels) we should use transformer objects that have been **fit on the training data**. This is because in real-world applications the test data would not be available during training. \n",
        "\n",
        "So, we can call the `.transform` function alone on previously trained object."
      ]
    },
    {
      "cell_type": "code",
      "source": [
        "test_dataset.head()"
      ],
      "metadata": {
        "colab": {
          "base_uri": "https://localhost:8080/",
          "height": 287
        },
        "id": "vROIIHAgw2KD",
        "outputId": "285a3496-5f18-4fb4-80b8-037b717d3ebd"
      },
      "execution_count": 29,
      "outputs": [
        {
          "output_type": "execute_result",
          "data": {
            "text/plain": [
              "      Loan_ID  Gender Married Dependents     Education Self_Employed  \\\n",
              "121  LP001489  Female     Yes          0      Graduate            No   \n",
              "256  LP002894   other     Yes          0      Graduate            No   \n",
              "188  LP001155  Female     Yes          0  Not Graduate            No   \n",
              "325  LP001664    Male      No          0      Graduate            No   \n",
              "278  LP001917  Female      No          0      Graduate            No   \n",
              "\n",
              "     ApplicantIncome  CoapplicantIncome  LoanAmount  Loan_Amount_Term  \\\n",
              "121           4583.0                0.0        84.0             360.0   \n",
              "256           3166.0                0.0        36.0             360.0   \n",
              "188           1928.0             1644.0       100.0             360.0   \n",
              "325           4191.0                0.0       120.0             360.0   \n",
              "278           1811.0             1666.0        54.0             360.0   \n",
              "\n",
              "     Credit_History Property_Area  \n",
              "121             1.0         Rural  \n",
              "256             1.0     Semiurban  \n",
              "188             1.0     Semiurban  \n",
              "325             1.0         Rural  \n",
              "278             1.0         Urban  "
            ],
            "text/html": [
              "\n",
              "  <div id=\"df-158be24a-95da-4ba7-938d-33edc1787ff8\">\n",
              "    <div class=\"colab-df-container\">\n",
              "      <div>\n",
              "<style scoped>\n",
              "    .dataframe tbody tr th:only-of-type {\n",
              "        vertical-align: middle;\n",
              "    }\n",
              "\n",
              "    .dataframe tbody tr th {\n",
              "        vertical-align: top;\n",
              "    }\n",
              "\n",
              "    .dataframe thead th {\n",
              "        text-align: right;\n",
              "    }\n",
              "</style>\n",
              "<table border=\"1\" class=\"dataframe\">\n",
              "  <thead>\n",
              "    <tr style=\"text-align: right;\">\n",
              "      <th></th>\n",
              "      <th>Loan_ID</th>\n",
              "      <th>Gender</th>\n",
              "      <th>Married</th>\n",
              "      <th>Dependents</th>\n",
              "      <th>Education</th>\n",
              "      <th>Self_Employed</th>\n",
              "      <th>ApplicantIncome</th>\n",
              "      <th>CoapplicantIncome</th>\n",
              "      <th>LoanAmount</th>\n",
              "      <th>Loan_Amount_Term</th>\n",
              "      <th>Credit_History</th>\n",
              "      <th>Property_Area</th>\n",
              "    </tr>\n",
              "  </thead>\n",
              "  <tbody>\n",
              "    <tr>\n",
              "      <th>121</th>\n",
              "      <td>LP001489</td>\n",
              "      <td>Female</td>\n",
              "      <td>Yes</td>\n",
              "      <td>0</td>\n",
              "      <td>Graduate</td>\n",
              "      <td>No</td>\n",
              "      <td>4583.0</td>\n",
              "      <td>0.0</td>\n",
              "      <td>84.0</td>\n",
              "      <td>360.0</td>\n",
              "      <td>1.0</td>\n",
              "      <td>Rural</td>\n",
              "    </tr>\n",
              "    <tr>\n",
              "      <th>256</th>\n",
              "      <td>LP002894</td>\n",
              "      <td>other</td>\n",
              "      <td>Yes</td>\n",
              "      <td>0</td>\n",
              "      <td>Graduate</td>\n",
              "      <td>No</td>\n",
              "      <td>3166.0</td>\n",
              "      <td>0.0</td>\n",
              "      <td>36.0</td>\n",
              "      <td>360.0</td>\n",
              "      <td>1.0</td>\n",
              "      <td>Semiurban</td>\n",
              "    </tr>\n",
              "    <tr>\n",
              "      <th>188</th>\n",
              "      <td>LP001155</td>\n",
              "      <td>Female</td>\n",
              "      <td>Yes</td>\n",
              "      <td>0</td>\n",
              "      <td>Not Graduate</td>\n",
              "      <td>No</td>\n",
              "      <td>1928.0</td>\n",
              "      <td>1644.0</td>\n",
              "      <td>100.0</td>\n",
              "      <td>360.0</td>\n",
              "      <td>1.0</td>\n",
              "      <td>Semiurban</td>\n",
              "    </tr>\n",
              "    <tr>\n",
              "      <th>325</th>\n",
              "      <td>LP001664</td>\n",
              "      <td>Male</td>\n",
              "      <td>No</td>\n",
              "      <td>0</td>\n",
              "      <td>Graduate</td>\n",
              "      <td>No</td>\n",
              "      <td>4191.0</td>\n",
              "      <td>0.0</td>\n",
              "      <td>120.0</td>\n",
              "      <td>360.0</td>\n",
              "      <td>1.0</td>\n",
              "      <td>Rural</td>\n",
              "    </tr>\n",
              "    <tr>\n",
              "      <th>278</th>\n",
              "      <td>LP001917</td>\n",
              "      <td>Female</td>\n",
              "      <td>No</td>\n",
              "      <td>0</td>\n",
              "      <td>Graduate</td>\n",
              "      <td>No</td>\n",
              "      <td>1811.0</td>\n",
              "      <td>1666.0</td>\n",
              "      <td>54.0</td>\n",
              "      <td>360.0</td>\n",
              "      <td>1.0</td>\n",
              "      <td>Urban</td>\n",
              "    </tr>\n",
              "  </tbody>\n",
              "</table>\n",
              "</div>\n",
              "      <button class=\"colab-df-convert\" onclick=\"convertToInteractive('df-158be24a-95da-4ba7-938d-33edc1787ff8')\"\n",
              "              title=\"Convert this dataframe to an interactive table.\"\n",
              "              style=\"display:none;\">\n",
              "        \n",
              "  <svg xmlns=\"http://www.w3.org/2000/svg\" height=\"24px\"viewBox=\"0 0 24 24\"\n",
              "       width=\"24px\">\n",
              "    <path d=\"M0 0h24v24H0V0z\" fill=\"none\"/>\n",
              "    <path d=\"M18.56 5.44l.94 2.06.94-2.06 2.06-.94-2.06-.94-.94-2.06-.94 2.06-2.06.94zm-11 1L8.5 8.5l.94-2.06 2.06-.94-2.06-.94L8.5 2.5l-.94 2.06-2.06.94zm10 10l.94 2.06.94-2.06 2.06-.94-2.06-.94-.94-2.06-.94 2.06-2.06.94z\"/><path d=\"M17.41 7.96l-1.37-1.37c-.4-.4-.92-.59-1.43-.59-.52 0-1.04.2-1.43.59L10.3 9.45l-7.72 7.72c-.78.78-.78 2.05 0 2.83L4 21.41c.39.39.9.59 1.41.59.51 0 1.02-.2 1.41-.59l7.78-7.78 2.81-2.81c.8-.78.8-2.07 0-2.86zM5.41 20L4 18.59l7.72-7.72 1.47 1.35L5.41 20z\"/>\n",
              "  </svg>\n",
              "      </button>\n",
              "      \n",
              "  <style>\n",
              "    .colab-df-container {\n",
              "      display:flex;\n",
              "      flex-wrap:wrap;\n",
              "      gap: 12px;\n",
              "    }\n",
              "\n",
              "    .colab-df-convert {\n",
              "      background-color: #E8F0FE;\n",
              "      border: none;\n",
              "      border-radius: 50%;\n",
              "      cursor: pointer;\n",
              "      display: none;\n",
              "      fill: #1967D2;\n",
              "      height: 32px;\n",
              "      padding: 0 0 0 0;\n",
              "      width: 32px;\n",
              "    }\n",
              "\n",
              "    .colab-df-convert:hover {\n",
              "      background-color: #E2EBFA;\n",
              "      box-shadow: 0px 1px 2px rgba(60, 64, 67, 0.3), 0px 1px 3px 1px rgba(60, 64, 67, 0.15);\n",
              "      fill: #174EA6;\n",
              "    }\n",
              "\n",
              "    [theme=dark] .colab-df-convert {\n",
              "      background-color: #3B4455;\n",
              "      fill: #D2E3FC;\n",
              "    }\n",
              "\n",
              "    [theme=dark] .colab-df-convert:hover {\n",
              "      background-color: #434B5C;\n",
              "      box-shadow: 0px 1px 3px 1px rgba(0, 0, 0, 0.15);\n",
              "      filter: drop-shadow(0px 1px 2px rgba(0, 0, 0, 0.3));\n",
              "      fill: #FFFFFF;\n",
              "    }\n",
              "  </style>\n",
              "\n",
              "      <script>\n",
              "        const buttonEl =\n",
              "          document.querySelector('#df-158be24a-95da-4ba7-938d-33edc1787ff8 button.colab-df-convert');\n",
              "        buttonEl.style.display =\n",
              "          google.colab.kernel.accessAllowed ? 'block' : 'none';\n",
              "\n",
              "        async function convertToInteractive(key) {\n",
              "          const element = document.querySelector('#df-158be24a-95da-4ba7-938d-33edc1787ff8');\n",
              "          const dataTable =\n",
              "            await google.colab.kernel.invokeFunction('convertToInteractive',\n",
              "                                                     [key], {});\n",
              "          if (!dataTable) return;\n",
              "\n",
              "          const docLinkHtml = 'Like what you see? Visit the ' +\n",
              "            '<a target=\"_blank\" href=https://colab.research.google.com/notebooks/data_table.ipynb>data table notebook</a>'\n",
              "            + ' to learn more about interactive tables.';\n",
              "          element.innerHTML = '';\n",
              "          dataTable['output_type'] = 'display_data';\n",
              "          await google.colab.output.renderOutput(dataTable, element);\n",
              "          const docLink = document.createElement('div');\n",
              "          docLink.innerHTML = docLinkHtml;\n",
              "          element.appendChild(docLink);\n",
              "        }\n",
              "      </script>\n",
              "    </div>\n",
              "  </div>\n",
              "  "
            ]
          },
          "metadata": {},
          "execution_count": 29
        }
      ]
    },
    {
      "cell_type": "code",
      "metadata": {
        "id": "0h8vleH_QHtR",
        "colab": {
          "base_uri": "https://localhost:8080/",
          "height": 381
        },
        "outputId": "39a22760-308e-455f-8b5e-ba375ddbcbc2"
      },
      "source": [
        "# Your code here\n",
        "test_dataset_no_nans= test_dataset.copy()\n",
        "\n",
        "# filling nans\n",
        "test_dataset_no_nans[numerical_columns] = imptr_num.transform(test_dataset_no_nans[numerical_columns])\n",
        "test_dataset_no_nans[categorical_columns] = imptr_cat.transform(test_dataset_no_nans[categorical_columns])\n",
        "\n",
        "# encoding categorical values\n",
        "encoded_test_array= ct_cat.transform(test_dataset_no_nans) #ct_cat was the ColumnTransformer\n",
        "\n",
        "test_dataset_no_nans= pd.DataFrame(encoded_test_array, columns=ct_cat.get_feature_names_out()) #???\n",
        "\n",
        "# make sure numerical columns are of type float ???\n",
        "test_dataset_no_nans= test_dataset_no_nans.astype(dtype={col: \"float64\" for col in numerical_columns})\n",
        "\n",
        "# scaling\n",
        "test_dataset_no_nans[numerical_columns] = my_scaler_num.transform(test_dataset_no_nans[numerical_columns])\n",
        "\n",
        "# encode labels\n",
        "test_encoded_labels = lblEncoder_Y.transform(test_labels['Target']) "
      ],
      "execution_count": 33,
      "outputs": [
        {
          "output_type": "error",
          "ename": "NotFittedError",
          "evalue": "ignored",
          "traceback": [
            "\u001b[0;31m---------------------------------------------------------------------------\u001b[0m",
            "\u001b[0;31mNotFittedError\u001b[0m                            Traceback (most recent call last)",
            "\u001b[0;32m<ipython-input-33-5a49822a3b80>\u001b[0m in \u001b[0;36m<module>\u001b[0;34m\u001b[0m\n\u001b[1;32m      3\u001b[0m \u001b[0;34m\u001b[0m\u001b[0m\n\u001b[1;32m      4\u001b[0m \u001b[0;31m# filling nans\u001b[0m\u001b[0;34m\u001b[0m\u001b[0;34m\u001b[0m\u001b[0;34m\u001b[0m\u001b[0m\n\u001b[0;32m----> 5\u001b[0;31m \u001b[0mtest_dataset_no_nans\u001b[0m\u001b[0;34m[\u001b[0m\u001b[0mnumerical_columns\u001b[0m\u001b[0;34m]\u001b[0m \u001b[0;34m=\u001b[0m \u001b[0mimptr_num\u001b[0m\u001b[0;34m.\u001b[0m\u001b[0mtransform\u001b[0m\u001b[0;34m(\u001b[0m\u001b[0mtest_dataset_no_nans\u001b[0m\u001b[0;34m[\u001b[0m\u001b[0mnumerical_columns\u001b[0m\u001b[0;34m]\u001b[0m\u001b[0;34m)\u001b[0m\u001b[0;34m\u001b[0m\u001b[0;34m\u001b[0m\u001b[0m\n\u001b[0m\u001b[1;32m      6\u001b[0m \u001b[0mtest_dataset_no_nans\u001b[0m\u001b[0;34m[\u001b[0m\u001b[0mcategorical_columns\u001b[0m\u001b[0;34m]\u001b[0m \u001b[0;34m=\u001b[0m \u001b[0mimptr_cat\u001b[0m\u001b[0;34m.\u001b[0m\u001b[0mtransform\u001b[0m\u001b[0;34m(\u001b[0m\u001b[0mtest_dataset_no_nans\u001b[0m\u001b[0;34m[\u001b[0m\u001b[0mcategorical_columns\u001b[0m\u001b[0;34m]\u001b[0m\u001b[0;34m)\u001b[0m\u001b[0;34m\u001b[0m\u001b[0;34m\u001b[0m\u001b[0m\n\u001b[1;32m      7\u001b[0m \u001b[0;34m\u001b[0m\u001b[0m\n",
            "\u001b[0;32m/usr/local/lib/python3.8/dist-packages/sklearn/impute/_base.py\u001b[0m in \u001b[0;36mtransform\u001b[0;34m(self, X)\u001b[0m\n\u001b[1;32m    466\u001b[0m             \u001b[0;31m`\u001b[0m\u001b[0mX\u001b[0m\u001b[0;31m`\u001b[0m \u001b[0;32mwith\u001b[0m \u001b[0mimputed\u001b[0m \u001b[0mvalues\u001b[0m\u001b[0;34m.\u001b[0m\u001b[0;34m\u001b[0m\u001b[0;34m\u001b[0m\u001b[0m\n\u001b[1;32m    467\u001b[0m         \"\"\"\n\u001b[0;32m--> 468\u001b[0;31m         \u001b[0mcheck_is_fitted\u001b[0m\u001b[0;34m(\u001b[0m\u001b[0mself\u001b[0m\u001b[0;34m)\u001b[0m\u001b[0;34m\u001b[0m\u001b[0;34m\u001b[0m\u001b[0m\n\u001b[0m\u001b[1;32m    469\u001b[0m \u001b[0;34m\u001b[0m\u001b[0m\n\u001b[1;32m    470\u001b[0m         \u001b[0mX\u001b[0m \u001b[0;34m=\u001b[0m \u001b[0mself\u001b[0m\u001b[0;34m.\u001b[0m\u001b[0m_validate_input\u001b[0m\u001b[0;34m(\u001b[0m\u001b[0mX\u001b[0m\u001b[0;34m,\u001b[0m \u001b[0min_fit\u001b[0m\u001b[0;34m=\u001b[0m\u001b[0;32mFalse\u001b[0m\u001b[0;34m)\u001b[0m\u001b[0;34m\u001b[0m\u001b[0;34m\u001b[0m\u001b[0m\n",
            "\u001b[0;32m/usr/local/lib/python3.8/dist-packages/sklearn/utils/validation.py\u001b[0m in \u001b[0;36mcheck_is_fitted\u001b[0;34m(estimator, attributes, msg, all_or_any)\u001b[0m\n\u001b[1;32m   1220\u001b[0m \u001b[0;34m\u001b[0m\u001b[0m\n\u001b[1;32m   1221\u001b[0m     \u001b[0;32mif\u001b[0m \u001b[0;32mnot\u001b[0m \u001b[0mfitted\u001b[0m\u001b[0;34m:\u001b[0m\u001b[0;34m\u001b[0m\u001b[0;34m\u001b[0m\u001b[0m\n\u001b[0;32m-> 1222\u001b[0;31m         \u001b[0;32mraise\u001b[0m \u001b[0mNotFittedError\u001b[0m\u001b[0;34m(\u001b[0m\u001b[0mmsg\u001b[0m \u001b[0;34m%\u001b[0m \u001b[0;34m{\u001b[0m\u001b[0;34m\"name\"\u001b[0m\u001b[0;34m:\u001b[0m \u001b[0mtype\u001b[0m\u001b[0;34m(\u001b[0m\u001b[0mestimator\u001b[0m\u001b[0;34m)\u001b[0m\u001b[0;34m.\u001b[0m\u001b[0m__name__\u001b[0m\u001b[0;34m}\u001b[0m\u001b[0;34m)\u001b[0m\u001b[0;34m\u001b[0m\u001b[0;34m\u001b[0m\u001b[0m\n\u001b[0m\u001b[1;32m   1223\u001b[0m \u001b[0;34m\u001b[0m\u001b[0m\n\u001b[1;32m   1224\u001b[0m \u001b[0;34m\u001b[0m\u001b[0m\n",
            "\u001b[0;31mNotFittedError\u001b[0m: This SimpleImputer instance is not fitted yet. Call 'fit' with appropriate arguments before using this estimator."
          ]
        }
      ]
    },
    {
      "cell_type": "markdown",
      "metadata": {
        "id": "MxTzOoCuUZkl"
      },
      "source": [
        "Here I provide a standard classifier so that you perform some tests if you want"
      ]
    },
    {
      "cell_type": "code",
      "metadata": {
        "id": "z89VUxLP2kFd",
        "colab": {
          "base_uri": "https://localhost:8080/",
          "height": 253
        },
        "outputId": "39a79588-9854-4aed-e3bb-e8497a53835c"
      },
      "source": [
        "from sklearn.neighbors import KNeighborsClassifier\n",
        "from sklearn.metrics import accuracy_score\n",
        "\n",
        "\n",
        "# we will use a classifier (we will skip details and what it does for now, so just use it as it is)\n",
        "knn=KNeighborsClassifier(n_neighbors=5)\n",
        "knn.fit(train_dataset_no_nans.drop(columns=['Loan_ID']), train_encoded_labels) #train_labels['Target'])  \n",
        "## we train the classifier with the training data and labels: train_dataset_no_nans1 should be the training dataframe after:  \n",
        "## i) filling in all missing values, ii) encoding all categorical features and (maybe) after feature scaling\n",
        "\n",
        "# Checking the model's accuracy (performance); this should be performed on the test set and thus we use the test_dataset_no_nans and the test labels (after encoding)\n",
        "performance = knn.score(test_dataset_no_nans.drop(columns=['Loan_ID']), test_encoded_labels)\n",
        "print(f'Performance is {performance:.3f}')\n",
        "\n"
      ],
      "execution_count": 34,
      "outputs": [
        {
          "output_type": "error",
          "ename": "NameError",
          "evalue": "ignored",
          "traceback": [
            "\u001b[0;31m---------------------------------------------------------------------------\u001b[0m",
            "\u001b[0;31mNameError\u001b[0m                                 Traceback (most recent call last)",
            "\u001b[0;32m<ipython-input-34-6f496e6284f1>\u001b[0m in \u001b[0;36m<module>\u001b[0;34m\u001b[0m\n\u001b[1;32m     10\u001b[0m \u001b[0;34m\u001b[0m\u001b[0m\n\u001b[1;32m     11\u001b[0m \u001b[0;31m# Checking the model's accuracy (performance); this should be performed on the test set and thus we use the test_dataset_no_nans and the test labels (after encoding)\u001b[0m\u001b[0;34m\u001b[0m\u001b[0;34m\u001b[0m\u001b[0;34m\u001b[0m\u001b[0m\n\u001b[0;32m---> 12\u001b[0;31m \u001b[0mperformance\u001b[0m \u001b[0;34m=\u001b[0m \u001b[0mknn\u001b[0m\u001b[0;34m.\u001b[0m\u001b[0mscore\u001b[0m\u001b[0;34m(\u001b[0m\u001b[0mtest_dataset_no_nans\u001b[0m\u001b[0;34m.\u001b[0m\u001b[0mdrop\u001b[0m\u001b[0;34m(\u001b[0m\u001b[0mcolumns\u001b[0m\u001b[0;34m=\u001b[0m\u001b[0;34m[\u001b[0m\u001b[0;34m'Loan_ID'\u001b[0m\u001b[0;34m]\u001b[0m\u001b[0;34m)\u001b[0m\u001b[0;34m,\u001b[0m \u001b[0mtest_encoded_labels\u001b[0m\u001b[0;34m)\u001b[0m\u001b[0;34m\u001b[0m\u001b[0;34m\u001b[0m\u001b[0m\n\u001b[0m\u001b[1;32m     13\u001b[0m \u001b[0mprint\u001b[0m\u001b[0;34m(\u001b[0m\u001b[0;34mf'Performance is {performance:.3f}'\u001b[0m\u001b[0;34m)\u001b[0m\u001b[0;34m\u001b[0m\u001b[0;34m\u001b[0m\u001b[0m\n\u001b[1;32m     14\u001b[0m \u001b[0;34m\u001b[0m\u001b[0m\n",
            "\u001b[0;31mNameError\u001b[0m: name 'test_encoded_labels' is not defined"
          ]
        }
      ]
    },
    {
      "cell_type": "markdown",
      "metadata": {
        "id": "VQWjGIFRTlyt"
      },
      "source": [
        "## [Stretch goal] Final Exercise \n",
        "\n",
        "The steps performed above are essential for ML applications. For example, check what happens if we replace `train_dataset_no_nans` with `train_dataset`: what error message do we get? Why?\n",
        "\n",
        "Try commenting out some of the pre-processing steps we've seen and rerun the algorithm in the cell above without them. Keep track of the final performance number you obtain in each case (if the code still runs). Without which ones does the code break, and without which ones doe the code still run, but perhaps less optimally? What do you think it's happening?\n",
        "\n",
        "Note that the notebook so far can be used as a base for ML projects with appropriate modifications (at the very least don't forget about the EDA part and hyper-parameters optimization)."
      ]
    },
    {
      "cell_type": "code",
      "source": [],
      "metadata": {
        "id": "vwMueqPyV0kj"
      },
      "execution_count": null,
      "outputs": []
    }
  ]
}